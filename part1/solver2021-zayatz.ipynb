{
 "cells": [
  {
   "cell_type": "code",
   "execution_count": 1,
   "id": "e283b760-96d9-4783-afaa-b6a19278ee5a",
   "metadata": {},
   "outputs": [],
   "source": [
    "#!/usr/local/bin/python3\n",
    "# solver2021.py : 2021 Sliding tile puzzle solver\n",
    "#\n",
    "# Code by: name IU ID\n",
    "#\n",
    "# Based on skeleton code by D. Crandall & B551 Staff, September 2021\n",
    "#"
   ]
  },
  {
   "cell_type": "code",
   "execution_count": 2,
   "id": "538854ce-e04f-45a2-9062-307e9342e12d",
   "metadata": {},
   "outputs": [],
   "source": [
    "import sys\n",
    "import numpy as np\n",
    "from time import time"
   ]
  },
  {
   "cell_type": "markdown",
   "id": "4fcf2168-85bc-4ff1-8763-57b68f9220e1",
   "metadata": {},
   "source": [
    "# Housekeeping functions"
   ]
  },
  {
   "cell_type": "code",
   "execution_count": 3,
   "id": "0802f6df-4d4c-4572-aeb0-d66f2bbeda00",
   "metadata": {},
   "outputs": [],
   "source": [
    "ROWS=5\n",
    "COLS=5"
   ]
  },
  {
   "cell_type": "code",
   "execution_count": 4,
   "id": "15b9c825-a27b-43b0-88bc-63cf2b755d43",
   "metadata": {},
   "outputs": [],
   "source": [
    "def printable_board(board):\n",
    "    return [ ('%3d ')*COLS  % board[j:(j+COLS)] for j in range(0, ROWS*COLS, COLS) ]"
   ]
  },
  {
   "cell_type": "code",
   "execution_count": 5,
   "id": "947a3caf-66df-4cab-82b4-4a5884a7131a",
   "metadata": {},
   "outputs": [],
   "source": [
    "def parse_board():\n",
    "\n",
    "    start_state = []\n",
    "    with open('board1.txt', 'r') as file:\n",
    "        for line in file:\n",
    "            start_state += [int(i) for i in line.split()]\n",
    "        return np.reshape(start_state, (5,5))\n",
    "            \n",
    "        "
   ]
  },
  {
   "cell_type": "code",
   "execution_count": 6,
   "id": "5a3b7fef-8958-46e0-967a-42f26ad93dab",
   "metadata": {},
   "outputs": [
    {
     "data": {
      "text/plain": [
       "array([[12,  6, 10,  1, 23],\n",
       "       [16, 17, 13,  7, 25],\n",
       "       [19, 14,  8,  3,  4],\n",
       "       [21, 15,  9, 20,  5],\n",
       "       [22, 18, 24,  2, 11]])"
      ]
     },
     "execution_count": 6,
     "metadata": {},
     "output_type": "execute_result"
    }
   ],
   "source": [
    "board1 = np.array(parse_board())\n",
    "board1"
   ]
  },
  {
   "cell_type": "code",
   "execution_count": 7,
   "id": "d2c8e087-1552-408b-9d73-04395ca60a9b",
   "metadata": {},
   "outputs": [
    {
     "data": {
      "text/plain": [
       "array([[ 1,  2,  3,  4,  5],\n",
       "       [ 6,  7,  8,  9, 10],\n",
       "       [11, 12, 13, 14, 15],\n",
       "       [16, 17, 18, 19, 20],\n",
       "       [21, 22, 23, 24, 25]])"
      ]
     },
     "execution_count": 7,
     "metadata": {},
     "output_type": "execute_result"
    }
   ],
   "source": [
    "goal_state = np.array([x for x in range(1,26)]).reshape(5,5)\n",
    "goal_state"
   ]
  },
  {
   "cell_type": "code",
   "execution_count": 8,
   "id": "14cb45d9-344f-4f16-ba39-869749f6627b",
   "metadata": {},
   "outputs": [],
   "source": [
    "# check if we've reached the goal\n",
    "def is_goal(state):\n",
    "    goal_state = np.array([x for x in range(1,26)]).reshape(5,5)\n",
    "\n",
    "    return np.all(state==goal_state)"
   ]
  },
  {
   "cell_type": "markdown",
   "id": "f49148b4-bcd5-4965-93bb-9d13440712b4",
   "metadata": {},
   "source": [
    "# Successor function"
   ]
  },
  {
   "cell_type": "code",
   "execution_count": 10,
   "id": "8872f817-82a1-4836-a05d-6eaf66b5928b",
   "metadata": {},
   "outputs": [],
   "source": [
    "# return a list of possible successor states\n",
    "def successors(state):\n",
    "    \n",
    "    ## outputs a 24 X 5 X 5 numpy array containing all possible board configs from current config##\n",
    "    \n",
    "    #left moves\n",
    "    L1 = np.vstack([np.roll(state[0], -1),state[1:]])\n",
    "    L2 = np.vstack([state[:1], np.roll(state[1],-1), state[2:]])\n",
    "    L3 = np.vstack([state[:2], np.roll(state[2],-1), state[3:]])\n",
    "    L4 = np.vstack([state[:3], np.roll(state[3],-1), state[4:]])\n",
    "    L5 = np.vstack([state[:4], np.roll(state[4],-1)])\n",
    "\n",
    "    #right moves\n",
    "    R1 = np.vstack([np.roll(state[0],1),state[1:]])\n",
    "    R2 = np.vstack([state[:1], np.roll(state[1],1), state[2:]])\n",
    "    R3 = np.vstack([state[:2], np.roll(state[2],1), state[3:]])\n",
    "    R4 = np.vstack([state[:3], np.roll(state[3],1), state[4:]])\n",
    "    R5 = np.vstack([state[:4], np.roll(state[4],1)])\n",
    "\n",
    "    #down moves\n",
    "    D1 = np.vstack([np.roll(state[:,0],1),state[:,1:].T]).T\n",
    "    D2 = np.vstack([state[:,1].T, np.roll(state[:,1],1), state[:,2:].T]).T\n",
    "    D3 = np.vstack([state[:,:2].T, np.roll(state[:,2],1), state[:,3:].T]).T\n",
    "    D4 = np.vstack([state[:,:3].T, np.roll(state[:,3],1), state[:,4:].T]).T\n",
    "    D5 = np.vstack([state[:,:4].T, np.roll(state[:,4],1), state[:,5:].T]).T\n",
    "\n",
    "    #up moves\n",
    "    U1 = np.vstack([np.roll(state[:,0],-1),state[:,1:].T]).T\n",
    "    U2 = np.vstack([state[:,1].T, np.roll(state[:,1],-1), state[:,2:].T]).T\n",
    "    U3 = np.vstack([state[:,:2].T, np.roll(state[:,2],-1), state[:,3:].T]).T\n",
    "    U4 = np.vstack([state[:,:3].T, np.roll(state[:,3],-1), state[:,4:].T]).T\n",
    "    U5 = np.vstack([state[:,:4].T, np.roll(state[:,4],-1), state[:,5:].T]).T\n",
    "    \n",
    "    #ring moves\n",
    "    flat_board = np.reshape(state, (1,25))\n",
    "\n",
    "    #outer moves\n",
    "    oc_ind = np.array([5,0,1,2,3,10,6,7,8,4,15,11,12,13,9,20,16,17,18,14,21,22,23,24,19])\n",
    "    Oc = np.reshape(flat_board[:,oc_ind],(5,5))\n",
    "\n",
    "    occ_ind = np.array([1,2,3,4,9,0,6,7,8,14,5,11,12,13,19,10,16,17,18,24,15,20,21,22,23])\n",
    "    Occ = np.reshape(flat_board[:,occ_ind],(5,5))\n",
    "\n",
    "\n",
    "    #inner moves\n",
    "    ic_ind = np.array([0,1,2,3,4,5,11,6,7,9,10,16,12,8,14,15,17,18,13,19,20,21,22,23,24])\n",
    "    Ic = np.reshape(flat_board[:,ic_ind],(5,5))\n",
    "\n",
    "    icc_ind = np.array([0,1,2,3,4,5,7,8,13,9,10,6,12,18,14,15,11,16,17,19,20,21,22,23,24])\n",
    "    Icc = np.reshape(flat_board[:,icc_ind],(5,5))\n",
    "    \n",
    "    return np.array([(L1,'L1'),(L2,'L2'),(L3,'L3'),(L4,'L4'),(L5,'L5'),\n",
    "                     (R1,'R1'),(R2,'R2'),(R3,'R3'),(R4,'R4'),(R5,'R5'),\n",
    "                     (U1,'U1'),(U2, 'U2'),(U3,'U3'),(U4,'U4'),(U5,'U5'),\n",
    "                     (D1,'D1'),(D2,'D2'),(D3,'D3'),(D4,'D4'),(D5,'D5'),\n",
    "                     (Oc,'Oc'),(Occ,'Occ'),(Ic,'Ic'),(Icc,'Icc')], dtype = object)\n",
    "    "
   ]
  },
  {
   "cell_type": "markdown",
   "id": "b2a93701-1161-4cc3-a241-0b4c0e34251b",
   "metadata": {},
   "source": [
    "# heuristic functions:"
   ]
  },
  {
   "cell_type": "code",
   "execution_count": 11,
   "id": "8298a29c-a97c-4735-95b1-91f012f6d77d",
   "metadata": {},
   "outputs": [],
   "source": [
    "def n_displaced_tiles(state):\n",
    "    compare = state == goal_state\n",
    "    return 25 - np.count_nonzero(compare)"
   ]
  },
  {
   "cell_type": "code",
   "execution_count": 102,
   "id": "8df87817-e6c6-490c-a898-12faa8506a90",
   "metadata": {},
   "outputs": [],
   "source": [
    "def sum_abs_diff(state):\n",
    "    return np.sum(np.abs(np.subtract(state,goal_state)))"
   ]
  },
  {
   "cell_type": "code",
   "execution_count": 122,
   "id": "8022afb5-9f29-4277-8777-0f431b538cbb",
   "metadata": {},
   "outputs": [],
   "source": [
    "def avg_abs_diff(state):\n",
    "    abs_diff = np.sum(np.abs(np.subtract(state, goal_state)))\n",
    "    n_displaced = 25 - np.count_nonzero(state == goal_state)\n",
    "    return int(abs_diff/n_displaced)\n",
    "\n"
   ]
  },
  {
   "cell_type": "markdown",
   "id": "21eb2639-d0cd-4267-8463-3feaee1e781b",
   "metadata": {},
   "source": [
    "# See if solve function flows correctly"
   ]
  },
  {
   "cell_type": "code",
   "execution_count": 12,
   "id": "59c3072c-95b6-4ec4-8296-5c38d3481020",
   "metadata": {},
   "outputs": [
    {
     "data": {
      "text/plain": [
       "array([[ 2,  3,  4,  5,  1],\n",
       "       [ 6,  7,  8,  9, 10],\n",
       "       [11, 12, 13, 14, 15],\n",
       "       [16, 17, 18, 19, 20],\n",
       "       [21, 22, 23, 24, 25]])"
      ]
     },
     "execution_count": 12,
     "metadata": {},
     "output_type": "execute_result"
    }
   ],
   "source": [
    "# test to see if flow of solve function works\n",
    "# easy board is solved in 1 move\n",
    "easy_board = successors(goal_state)[0][0]\n",
    "easy_board"
   ]
  },
  {
   "cell_type": "code",
   "execution_count": 13,
   "id": "a4ea9b5b-4441-4a39-b47f-93e0bb5365ef",
   "metadata": {},
   "outputs": [
    {
     "data": {
      "text/plain": [
       "array([[ 1,  2,  3,  4,  5],\n",
       "       [ 6,  7,  8,  9, 10],\n",
       "       [11, 12, 13, 14, 15],\n",
       "       [16, 17, 18, 19, 20],\n",
       "       [21, 22, 23, 24, 25]])"
      ]
     },
     "execution_count": 13,
     "metadata": {},
     "output_type": "execute_result"
    }
   ],
   "source": [
    "successors(easy_board)[5][0]"
   ]
  },
  {
   "cell_type": "code",
   "execution_count": 14,
   "id": "e8dde76c-a388-4d54-b60b-6a539598fe29",
   "metadata": {},
   "outputs": [
    {
     "data": {
      "text/plain": [
       "True"
      ]
     },
     "execution_count": 14,
     "metadata": {},
     "output_type": "execute_result"
    }
   ],
   "source": [
    "np.all(successors(easy_board)[5][0]==goal_state)"
   ]
  },
  {
   "cell_type": "code",
   "execution_count": 61,
   "id": "7b4a1524-42f7-4759-a2fa-6ba37a052e80",
   "metadata": {},
   "outputs": [
    {
     "name": "stdout",
     "output_type": "stream",
     "text": [
      "CPU times: user 3 µs, sys: 0 ns, total: 3 µs\n",
      "Wall time: 7.39 µs\n",
      "goal state found\n",
      "[[ 1  2  3  4  5]\n",
      " [ 6  7  8  9 10]\n",
      " [11 12 13 14 15]\n",
      " [16 17 18 19 20]\n",
      " [21 22 23 24 25]]\n",
      "solve found in [1] moves\n",
      "['R1']\n"
     ]
    }
   ],
   "source": [
    "%time\n",
    "\n",
    "#initialize fringe\n",
    "fringe = []\n",
    "initial_board = easy_board\n",
    "fringe = [(initial_board,0,'staring point', 0)]# (board, g, 'move', f)\n",
    "\n",
    "#create list to keep track of items from fringe that are checked\n",
    "visited = []\n",
    "\n",
    "\n",
    "while fringe:\n",
    "    state, g, move, f = fringe.pop(np.argmin([item[3] for item in fringe]))\n",
    "    visited.append((state, g, move, f))\n",
    "\n",
    "    if is_goal(state):\n",
    "        print('goal state found')\n",
    "        print(state)\n",
    "        print (f'solve found in {[item[1] for item in visited[1:]]} moves')\n",
    "        print ([item[2] for item in visited[1:]])\n",
    "        break\n",
    "        \n",
    "    else:\n",
    "        for board,move in successors(state):\n",
    "            h = n_displaced_tiles(board)\n",
    "            f= g+1+h\n",
    "            fringe.append((board, g+1, move, f))"
   ]
  },
  {
   "cell_type": "markdown",
   "id": "ceb7369d-c312-4838-932b-3cecee7deafe",
   "metadata": {},
   "source": [
    "# A* with Search algorithm 3\n",
    "no solution found ~ 10 min.  very slow.  I think due to checking against visited list and fringe list for each successor"
   ]
  },
  {
   "cell_type": "code",
   "execution_count": 129,
   "id": "ecb677e2-3cf5-4853-a2a4-52e99c8a1647",
   "metadata": {},
   "outputs": [
    {
     "name": "stdout",
     "output_type": "stream",
     "text": [
      "100 states checked in 0.38 mins\n"
     ]
    }
   ],
   "source": [
    "# solve function a fixed number of iterations\n",
    "\n",
    "time_0=time()\n",
    "\n",
    "#initialize fringe\n",
    "fringe = []\n",
    "initial_board = board1\n",
    "fringe = [(initial_board,0,'staring point', 0)]# (board, g, 'move', f)\n",
    "\n",
    "#create list to keep track of items from fringe have been expanded\n",
    "visited = []\n",
    "\n",
    "\n",
    "i = 0\n",
    "for i in range(100):\n",
    "    #remove value with lowest f from fringe\n",
    "    state, g, move, f = fringe.pop(np.argmin([item[3] for item in fringe]))\n",
    "    \n",
    "    #add state to closed list\n",
    "    visited.append((state, g, move, f))\n",
    "    \n",
    "    #check if state is goal state\n",
    "    if is_goal(state):\n",
    "        print('goal state found')\n",
    "        print(state)\n",
    "        print (f'solve found in {[item[1] for item in visited[1:]]} moves')\n",
    "        print ([item[2] for item in visited[1:]])\n",
    "\n",
    "    else:\n",
    "        for board,move in successors(state):\n",
    "            #calculate and h and f\n",
    "            h = avg_abs_diff(board)\n",
    "            f= g+1+h\n",
    "            \n",
    "            #check if item is in visited\n",
    "            if np.any([np.all(board == item) for item, g, move, f in visited]):\n",
    "                continue\n",
    "            \n",
    "            # remove fringe item if successor has lower g\n",
    "            if np.any([np.all(board== item) for item in [item[0] for item in fringe]]):\n",
    "                match_idx = [np.all(board == item) for item in [item[0] for item in fringe]].index(1)\n",
    "                if g < fringe[match_idx][1]:\n",
    "                    del fringe[match_idx]\n",
    "                \n",
    "            # add successor to fringe not already in fringe\n",
    "            if not np.any([np.all(board == item) for item, g, move, f in fringe]):\n",
    "                fringe.append((board, g+1, move, f))\n",
    "i +=1\n",
    "\n",
    "print(f'100 states checked in {np.round((time()-time_0)/60,2)} mins')"
   ]
  },
  {
   "cell_type": "code",
   "execution_count": 130,
   "id": "9aa2f058-44f8-4b9b-9323-e4173fa31013",
   "metadata": {},
   "outputs": [
    {
     "name": "stdout",
     "output_type": "stream",
     "text": [
      "items in fringe: 2047\n",
      "items visited: 100\n",
      "unique states in visited: 100\n",
      "f of last item in visited: 8\n",
      "lowest f value in visited 7\n"
     ]
    }
   ],
   "source": [
    "print(f'items in fringe: {len(fringe)}')\n",
    "print(f'items visited: {len(visited)}')\n",
    "print(f'unique states in visited: {len(np.unique([item[0] for item in visited], axis =0))}')\n",
    "print(f'f of last item in visited: {visited[-1][3]}')\n",
    "print(f'lowest f value in visited {min(np.array([item[3] for item in visited][1:]))}')"
   ]
  },
  {
   "cell_type": "code",
   "execution_count": 131,
   "id": "c3c8865a-2379-40e8-901a-5d31f1d1aed4",
   "metadata": {},
   "outputs": [
    {
     "ename": "KeyboardInterrupt",
     "evalue": "",
     "output_type": "error",
     "traceback": [
      "\u001b[0;31m---------------------------------------------------------------------------\u001b[0m",
      "\u001b[0;31mKeyboardInterrupt\u001b[0m                         Traceback (most recent call last)",
      "\u001b[0;32m/var/folders/2q/wrk7kldd0zsf9sz2lq24xtzw0000gn/T/ipykernel_67935/1956881012.py\u001b[0m in \u001b[0;36m<module>\u001b[0;34m\u001b[0m\n\u001b[1;32m     38\u001b[0m \u001b[0;34m\u001b[0m\u001b[0m\n\u001b[1;32m     39\u001b[0m             \u001b[0;31m# remove fringe item if successor has lower g\u001b[0m\u001b[0;34m\u001b[0m\u001b[0;34m\u001b[0m\u001b[0;34m\u001b[0m\u001b[0m\n\u001b[0;32m---> 40\u001b[0;31m             \u001b[0;32mif\u001b[0m \u001b[0mnp\u001b[0m\u001b[0;34m.\u001b[0m\u001b[0many\u001b[0m\u001b[0;34m(\u001b[0m\u001b[0;34m[\u001b[0m\u001b[0mnp\u001b[0m\u001b[0;34m.\u001b[0m\u001b[0mall\u001b[0m\u001b[0;34m(\u001b[0m\u001b[0mboard\u001b[0m\u001b[0;34m==\u001b[0m \u001b[0mitem\u001b[0m\u001b[0;34m)\u001b[0m \u001b[0;32mfor\u001b[0m \u001b[0mitem\u001b[0m \u001b[0;32min\u001b[0m \u001b[0;34m[\u001b[0m\u001b[0mitem\u001b[0m\u001b[0;34m[\u001b[0m\u001b[0;36m0\u001b[0m\u001b[0;34m]\u001b[0m \u001b[0;32mfor\u001b[0m \u001b[0mitem\u001b[0m \u001b[0;32min\u001b[0m \u001b[0mfringe\u001b[0m\u001b[0;34m]\u001b[0m\u001b[0;34m]\u001b[0m\u001b[0;34m)\u001b[0m\u001b[0;34m:\u001b[0m\u001b[0;34m\u001b[0m\u001b[0;34m\u001b[0m\u001b[0m\n\u001b[0m\u001b[1;32m     41\u001b[0m                 \u001b[0mmatch_idx\u001b[0m \u001b[0;34m=\u001b[0m \u001b[0;34m[\u001b[0m\u001b[0mnp\u001b[0m\u001b[0;34m.\u001b[0m\u001b[0mall\u001b[0m\u001b[0;34m(\u001b[0m\u001b[0mboard\u001b[0m \u001b[0;34m==\u001b[0m \u001b[0mitem\u001b[0m\u001b[0;34m)\u001b[0m \u001b[0;32mfor\u001b[0m \u001b[0mitem\u001b[0m \u001b[0;32min\u001b[0m \u001b[0;34m[\u001b[0m\u001b[0mitem\u001b[0m\u001b[0;34m[\u001b[0m\u001b[0;36m0\u001b[0m\u001b[0;34m]\u001b[0m \u001b[0;32mfor\u001b[0m \u001b[0mitem\u001b[0m \u001b[0;32min\u001b[0m \u001b[0mfringe\u001b[0m\u001b[0;34m]\u001b[0m\u001b[0;34m]\u001b[0m\u001b[0;34m.\u001b[0m\u001b[0mindex\u001b[0m\u001b[0;34m(\u001b[0m\u001b[0;36m1\u001b[0m\u001b[0;34m)\u001b[0m\u001b[0;34m\u001b[0m\u001b[0;34m\u001b[0m\u001b[0m\n\u001b[1;32m     42\u001b[0m                 \u001b[0;32mif\u001b[0m \u001b[0mg\u001b[0m \u001b[0;34m<\u001b[0m \u001b[0mfringe\u001b[0m\u001b[0;34m[\u001b[0m\u001b[0mmatch_idx\u001b[0m\u001b[0;34m]\u001b[0m\u001b[0;34m[\u001b[0m\u001b[0;36m1\u001b[0m\u001b[0;34m]\u001b[0m\u001b[0;34m:\u001b[0m\u001b[0;34m\u001b[0m\u001b[0;34m\u001b[0m\u001b[0m\n",
      "\u001b[0;32m/var/folders/2q/wrk7kldd0zsf9sz2lq24xtzw0000gn/T/ipykernel_67935/1956881012.py\u001b[0m in \u001b[0;36m<listcomp>\u001b[0;34m(.0)\u001b[0m\n\u001b[1;32m     38\u001b[0m \u001b[0;34m\u001b[0m\u001b[0m\n\u001b[1;32m     39\u001b[0m             \u001b[0;31m# remove fringe item if successor has lower g\u001b[0m\u001b[0;34m\u001b[0m\u001b[0;34m\u001b[0m\u001b[0;34m\u001b[0m\u001b[0m\n\u001b[0;32m---> 40\u001b[0;31m             \u001b[0;32mif\u001b[0m \u001b[0mnp\u001b[0m\u001b[0;34m.\u001b[0m\u001b[0many\u001b[0m\u001b[0;34m(\u001b[0m\u001b[0;34m[\u001b[0m\u001b[0mnp\u001b[0m\u001b[0;34m.\u001b[0m\u001b[0mall\u001b[0m\u001b[0;34m(\u001b[0m\u001b[0mboard\u001b[0m\u001b[0;34m==\u001b[0m \u001b[0mitem\u001b[0m\u001b[0;34m)\u001b[0m \u001b[0;32mfor\u001b[0m \u001b[0mitem\u001b[0m \u001b[0;32min\u001b[0m \u001b[0;34m[\u001b[0m\u001b[0mitem\u001b[0m\u001b[0;34m[\u001b[0m\u001b[0;36m0\u001b[0m\u001b[0;34m]\u001b[0m \u001b[0;32mfor\u001b[0m \u001b[0mitem\u001b[0m \u001b[0;32min\u001b[0m \u001b[0mfringe\u001b[0m\u001b[0;34m]\u001b[0m\u001b[0;34m]\u001b[0m\u001b[0;34m)\u001b[0m\u001b[0;34m:\u001b[0m\u001b[0;34m\u001b[0m\u001b[0;34m\u001b[0m\u001b[0m\n\u001b[0m\u001b[1;32m     41\u001b[0m                 \u001b[0mmatch_idx\u001b[0m \u001b[0;34m=\u001b[0m \u001b[0;34m[\u001b[0m\u001b[0mnp\u001b[0m\u001b[0;34m.\u001b[0m\u001b[0mall\u001b[0m\u001b[0;34m(\u001b[0m\u001b[0mboard\u001b[0m \u001b[0;34m==\u001b[0m \u001b[0mitem\u001b[0m\u001b[0;34m)\u001b[0m \u001b[0;32mfor\u001b[0m \u001b[0mitem\u001b[0m \u001b[0;32min\u001b[0m \u001b[0;34m[\u001b[0m\u001b[0mitem\u001b[0m\u001b[0;34m[\u001b[0m\u001b[0;36m0\u001b[0m\u001b[0;34m]\u001b[0m \u001b[0;32mfor\u001b[0m \u001b[0mitem\u001b[0m \u001b[0;32min\u001b[0m \u001b[0mfringe\u001b[0m\u001b[0;34m]\u001b[0m\u001b[0;34m]\u001b[0m\u001b[0;34m.\u001b[0m\u001b[0mindex\u001b[0m\u001b[0;34m(\u001b[0m\u001b[0;36m1\u001b[0m\u001b[0;34m)\u001b[0m\u001b[0;34m\u001b[0m\u001b[0;34m\u001b[0m\u001b[0m\n\u001b[1;32m     42\u001b[0m                 \u001b[0;32mif\u001b[0m \u001b[0mg\u001b[0m \u001b[0;34m<\u001b[0m \u001b[0mfringe\u001b[0m\u001b[0;34m[\u001b[0m\u001b[0mmatch_idx\u001b[0m\u001b[0;34m]\u001b[0m\u001b[0;34m[\u001b[0m\u001b[0;36m1\u001b[0m\u001b[0;34m]\u001b[0m\u001b[0;34m:\u001b[0m\u001b[0;34m\u001b[0m\u001b[0;34m\u001b[0m\u001b[0m\n",
      "\u001b[0;31mKeyboardInterrupt\u001b[0m: "
     ]
    }
   ],
   "source": [
    "# A* with search algorithm 3\n",
    "\n",
    "# solve function trying to find solution\n",
    "time_0=time()\n",
    "\n",
    "#initialize open list for fringe\n",
    "fringe = []\n",
    "initial_board = board1\n",
    "fringe = [(initial_board,0,'staring point', 0)]# (board, g, 'move', f)\n",
    "\n",
    "#create closed list to keep track of items from fringe have been expanded\n",
    "visited = []\n",
    "\n",
    "while fringe:\n",
    "    #remove state with lowest f from closed list\n",
    "    state, g, move, f = fringe.pop(np.argmin([item[3] for item in fringe]))\n",
    "    \n",
    "    #add state to closed list\n",
    "    visited.append((state, g, move, f))\n",
    "    \n",
    "    #check if state is goal state\n",
    "    if is_goal(state):\n",
    "        print('goal state found')\n",
    "        print(state)\n",
    "        print (f'solve found in {[item[1] for item in visited[1:]]} moves')\n",
    "        print ([item[2] for item in visited[1:]])\n",
    "        break\n",
    "\n",
    "    else:\n",
    "        for board,move in successors(state):\n",
    "            #calculate and h and f\n",
    "            h = avg_abs_diff(board)\n",
    "            f= g+1+h\n",
    "            \n",
    "            #check if item is in visited\n",
    "            if np.any([np.all(board == item) for item, g, move, f in visited]):\n",
    "                continue\n",
    "            \n",
    "            # remove fringe item if successor has lower g\n",
    "            if np.any([np.all(board== item) for item in [item[0] for item in fringe]]):\n",
    "                match_idx = [np.all(board == item) for item in [item[0] for item in fringe]].index(1)\n",
    "                if g < fringe[match_idx][1]:\n",
    "                    del fringe[match_idx]\n",
    "                \n",
    "            # add successor to fringe\n",
    "            fringe.append((board, g+1, move, f))\n"
   ]
  },
  {
   "cell_type": "code",
   "execution_count": 132,
   "id": "c694f754-1c82-44a1-b891-cf36f43dbc10",
   "metadata": {},
   "outputs": [
    {
     "name": "stdout",
     "output_type": "stream",
     "text": [
      "17917\n",
      "934\n",
      "933\n",
      "9\n",
      "7\n"
     ]
    }
   ],
   "source": [
    "#stats after 20 mins\n",
    "print(len(fringe))\n",
    "print(len(visited))\n",
    "print(len(np.unique([item[0] for item in visited], axis =0)))\n",
    "print(max(np.array([item[3] for item in visited])))\n",
    "print(min(np.array([item[3] for item in visited][1:])))"
   ]
  },
  {
   "cell_type": "markdown",
   "id": "851a397b-d512-43db-b38d-7f33f9ea6451",
   "metadata": {},
   "source": [
    "# search algorithm 2\n",
    "checks more states, but doesn't get closer to the answer."
   ]
  },
  {
   "cell_type": "code",
   "execution_count": 124,
   "id": "60133e76-f4c9-404c-a8f3-463a8b2c10b9",
   "metadata": {},
   "outputs": [
    {
     "name": "stdout",
     "output_type": "stream",
     "text": [
      "100 states checked in 0.0 mins\n"
     ]
    }
   ],
   "source": [
    "# solve function a fixed number of iterations\n",
    "\n",
    "time_0=time()\n",
    "\n",
    "#initialize fringe\n",
    "fringe = []\n",
    "initial_board = board1\n",
    "fringe = [(initial_board,0,'staring point', 0)]# (board, g, 'move', f)\n",
    "\n",
    "#create list to keep track of items from fringe have been expanded\n",
    "visited = []\n",
    "\n",
    "\n",
    "i = 0\n",
    "for i in range(100):\n",
    "    #remove value with lowest f from fringe\n",
    "    state, g, move, f = fringe.pop(np.argmin([item[3] for item in fringe]))\n",
    "    \n",
    "    #add state to closed list\n",
    "    visited.append((state, g, move, f))\n",
    "    \n",
    "    #check if state is goal state\n",
    "    if is_goal(state):\n",
    "        print('goal state found')\n",
    "        print(state)\n",
    "        print (f'solve found in {[item[1] for item in visited[1:]]} moves')\n",
    "        print ([item[2] for item in visited[1:]])\n",
    "\n",
    "    else:\n",
    "        for board,move in successors(state):\n",
    "            #calculate and h and f\n",
    "            h = avg_abs_diff(board)\n",
    "            f= g+1+h\n",
    "            \n",
    "            fringe.append((board, g+1, move, f))\n",
    "i +=1\n",
    "\n",
    "print(f'100 states checked in {np.round((time()-time_0)/60,2)} mins')"
   ]
  },
  {
   "cell_type": "code",
   "execution_count": 125,
   "id": "f694b4bb-a699-4eac-8ada-ddf4de85398d",
   "metadata": {},
   "outputs": [
    {
     "name": "stdout",
     "output_type": "stream",
     "text": [
      "items in fringe: 2301\n",
      "items visited: 100\n",
      "unique states in visited: 90\n",
      "f of last item in visited: 8\n",
      "lowest f value in visited 7\n"
     ]
    }
   ],
   "source": [
    "print(f'items in fringe: {len(fringe)}')\n",
    "print(f'items visited: {len(visited)}')\n",
    "print(f'unique states in visited: {len(np.unique([item[0] for item in visited], axis =0))}')\n",
    "print(f'f of last item in visited: {visited[-1][3]}')\n",
    "print(f'lowest f value in visited {min(np.array([item[3] for item in visited][1:]))}')"
   ]
  },
  {
   "cell_type": "code",
   "execution_count": 127,
   "id": "076d5177-1ee0-4080-9a8e-07ba9d06b70b",
   "metadata": {},
   "outputs": [
    {
     "ename": "KeyboardInterrupt",
     "evalue": "",
     "output_type": "error",
     "traceback": [
      "\u001b[0;31m---------------------------------------------------------------------------\u001b[0m",
      "\u001b[0;31mKeyboardInterrupt\u001b[0m                         Traceback (most recent call last)",
      "\u001b[0;32m/var/folders/2q/wrk7kldd0zsf9sz2lq24xtzw0000gn/T/ipykernel_67935/2918041392.py\u001b[0m in \u001b[0;36m<module>\u001b[0;34m\u001b[0m\n\u001b[1;32m     14\u001b[0m \u001b[0;32mwhile\u001b[0m \u001b[0mfringe\u001b[0m\u001b[0;34m:\u001b[0m\u001b[0;34m\u001b[0m\u001b[0;34m\u001b[0m\u001b[0m\n\u001b[1;32m     15\u001b[0m     \u001b[0;31m#remove state with lowest f from closed list\u001b[0m\u001b[0;34m\u001b[0m\u001b[0;34m\u001b[0m\u001b[0;34m\u001b[0m\u001b[0m\n\u001b[0;32m---> 16\u001b[0;31m     \u001b[0mstate\u001b[0m\u001b[0;34m,\u001b[0m \u001b[0mg\u001b[0m\u001b[0;34m,\u001b[0m \u001b[0mmove\u001b[0m\u001b[0;34m,\u001b[0m \u001b[0mf\u001b[0m \u001b[0;34m=\u001b[0m \u001b[0mfringe\u001b[0m\u001b[0;34m.\u001b[0m\u001b[0mpop\u001b[0m\u001b[0;34m(\u001b[0m\u001b[0mnp\u001b[0m\u001b[0;34m.\u001b[0m\u001b[0margmin\u001b[0m\u001b[0;34m(\u001b[0m\u001b[0;34m[\u001b[0m\u001b[0mitem\u001b[0m\u001b[0;34m[\u001b[0m\u001b[0;36m3\u001b[0m\u001b[0;34m]\u001b[0m \u001b[0;32mfor\u001b[0m \u001b[0mitem\u001b[0m \u001b[0;32min\u001b[0m \u001b[0mfringe\u001b[0m\u001b[0;34m]\u001b[0m\u001b[0;34m)\u001b[0m\u001b[0;34m)\u001b[0m\u001b[0;34m\u001b[0m\u001b[0;34m\u001b[0m\u001b[0m\n\u001b[0m\u001b[1;32m     17\u001b[0m \u001b[0;34m\u001b[0m\u001b[0m\n\u001b[1;32m     18\u001b[0m     \u001b[0;31m#add state to closed list\u001b[0m\u001b[0;34m\u001b[0m\u001b[0;34m\u001b[0m\u001b[0;34m\u001b[0m\u001b[0m\n",
      "\u001b[0;32m/var/folders/2q/wrk7kldd0zsf9sz2lq24xtzw0000gn/T/ipykernel_67935/2918041392.py\u001b[0m in \u001b[0;36m<listcomp>\u001b[0;34m(.0)\u001b[0m\n\u001b[1;32m     14\u001b[0m \u001b[0;32mwhile\u001b[0m \u001b[0mfringe\u001b[0m\u001b[0;34m:\u001b[0m\u001b[0;34m\u001b[0m\u001b[0;34m\u001b[0m\u001b[0m\n\u001b[1;32m     15\u001b[0m     \u001b[0;31m#remove state with lowest f from closed list\u001b[0m\u001b[0;34m\u001b[0m\u001b[0;34m\u001b[0m\u001b[0;34m\u001b[0m\u001b[0m\n\u001b[0;32m---> 16\u001b[0;31m     \u001b[0mstate\u001b[0m\u001b[0;34m,\u001b[0m \u001b[0mg\u001b[0m\u001b[0;34m,\u001b[0m \u001b[0mmove\u001b[0m\u001b[0;34m,\u001b[0m \u001b[0mf\u001b[0m \u001b[0;34m=\u001b[0m \u001b[0mfringe\u001b[0m\u001b[0;34m.\u001b[0m\u001b[0mpop\u001b[0m\u001b[0;34m(\u001b[0m\u001b[0mnp\u001b[0m\u001b[0;34m.\u001b[0m\u001b[0margmin\u001b[0m\u001b[0;34m(\u001b[0m\u001b[0;34m[\u001b[0m\u001b[0mitem\u001b[0m\u001b[0;34m[\u001b[0m\u001b[0;36m3\u001b[0m\u001b[0;34m]\u001b[0m \u001b[0;32mfor\u001b[0m \u001b[0mitem\u001b[0m \u001b[0;32min\u001b[0m \u001b[0mfringe\u001b[0m\u001b[0;34m]\u001b[0m\u001b[0;34m)\u001b[0m\u001b[0;34m)\u001b[0m\u001b[0;34m\u001b[0m\u001b[0;34m\u001b[0m\u001b[0m\n\u001b[0m\u001b[1;32m     17\u001b[0m \u001b[0;34m\u001b[0m\u001b[0m\n\u001b[1;32m     18\u001b[0m     \u001b[0;31m#add state to closed list\u001b[0m\u001b[0;34m\u001b[0m\u001b[0;34m\u001b[0m\u001b[0;34m\u001b[0m\u001b[0m\n",
      "\u001b[0;31mKeyboardInterrupt\u001b[0m: "
     ]
    }
   ],
   "source": [
    "# A* with search algorithm 2\n",
    "\n",
    "# solve function trying to find solution\n",
    "time_0=time()\n",
    "\n",
    "#initialize open list hold fringe items\n",
    "fringe = []\n",
    "initial_board = board1\n",
    "fringe = [(initial_board,0,'staring point', 0)]# (board, g, 'move', f)\n",
    "\n",
    "#create closed list to keep track of items from fringe have been expanded\n",
    "visited = []\n",
    "\n",
    "while fringe:\n",
    "    #remove state with lowest f from closed list\n",
    "    state, g, move, f = fringe.pop(np.argmin([item[3] for item in fringe]))\n",
    "    \n",
    "    #add state to closed list\n",
    "    visited.append((state, g, move, f))\n",
    "    \n",
    "    #check if state is goal state\n",
    "    if is_goal(state):\n",
    "        print('goal state found')\n",
    "        print(state)\n",
    "        print (f'solve found in {[item[1] for item in visited[1:]]} moves')\n",
    "        print ([item[2] for item in visited[1:]])\n",
    "        break\n",
    "\n",
    "    else:\n",
    "        for board,move in successors(state):\n",
    "            #calculate and h and f\n",
    "            h = avg_abs_diff(board)\n",
    "            f= g+1+h\n",
    "            \n",
    "            # add successor to fringe\n",
    "            fringe.append((board, g+1, move, f))\n"
   ]
  },
  {
   "cell_type": "code",
   "execution_count": 128,
   "id": "31570135-c556-44fe-ad94-071f19079c32",
   "metadata": {},
   "outputs": [
    {
     "name": "stdout",
     "output_type": "stream",
     "text": [
      "items in fringe: 610766\n",
      "items visited: 26555\n",
      "unique states in visited: 15291\n",
      "f of last item in visited: 10\n",
      "lowest f value in visited 7\n"
     ]
    }
   ],
   "source": [
    "print(f'items in fringe: {len(fringe)}')\n",
    "print(f'items visited: {len(visited)}')\n",
    "print(f'unique states in visited: {len(np.unique([item[0] for item in visited], axis =0))}')\n",
    "print(f'f of last item in visited: {visited[-1][3]}')\n",
    "print(f'lowest f value in visited {min(np.array([item[3] for item in visited][1:]))}')"
   ]
  },
  {
   "cell_type": "code",
   "execution_count": 8,
   "id": "78fcd424-ecb2-44ac-a1d3-a072b0562c98",
   "metadata": {},
   "outputs": [],
   "source": [
    "def solve(initial_board):\n",
    "    \"\"\"\n",
    "    1. This function should return the solution as instructed in assignment, consisting of a list of moves like [\"R2\",\"D2\",\"U1\"].\n",
    "    2. Do not add any extra parameters to the solve() function, or it will break our grading and testing code.\n",
    "       For testing we will call this function with single argument(initial_board) and it should return \n",
    "       the solution.\n",
    "    3. Please do not use any global variables, as it may cause the testing code to fail.\n",
    "    4. You can assume that all test cases will be solvable.\n",
    "    5. The current code just returns a dummy solution.\n",
    "    \"\"\"\n",
    "    return [\"Oc\",\"L2\",\"Icc\", \"R4\"]"
   ]
  },
  {
   "cell_type": "code",
   "execution_count": 320,
   "id": "9dbde4b1-93b2-4916-b1ff-50e16249f641",
   "metadata": {},
   "outputs": [
    {
     "name": "stdout",
     "output_type": "stream",
     "text": [
      "[12, 6, 10, 1, 23, 16, 17, 13, 7, 25, 19, 14, 8, 3, 4, 21, 15, 9, 20, 5, 22, 18, 24, 2, 11]\n",
      "Start state: \n",
      " 12   6  10   1  23 \n",
      " 16  17  13   7  25 \n",
      " 19  14   8   3   4 \n",
      " 21  15   9  20   5 \n",
      " 22  18  24   2  11 \n",
      "Solving...\n",
      "Solution found in 4 moves:\n",
      "Oc L2 Icc R4\n"
     ]
    }
   ],
   "source": [
    "# Please don't modify anything below this line\n",
    "#\n",
    "if __name__ == \"__main__\":\n",
    "#     if(len(sys.argv) != 2):\n",
    "#         raise(Exception(\"Error: expected a board filename\"))\n",
    "\n",
    "    start_state = []\n",
    "    with open('board1.txt', 'r') as file:#changed sys.argv[1] to run in interactive\n",
    "        for line in file:\n",
    "            start_state += [ int(i) for i in line.split() ]\n",
    "    \n",
    "    print(start_state)# this was there before\n",
    "\n",
    "#     if len(start_state) != ROWS*COLS:\n",
    "#         raise(Exception(\"Error: couldn't parse start state file\"))\n",
    "\n",
    "    print(\"Start state: \\n\" +\"\\n\".join(printable_board(tuple(start_state))))\n",
    "\n",
    "    print(\"Solving...\")\n",
    "    route = solve(tuple(start_state))\n",
    "    \n",
    "    print(\"Solution found in \" + str(len(route)) + \" moves:\" + \"\\n\" + \" \".join(route))"
   ]
  },
  {
   "cell_type": "code",
   "execution_count": null,
   "id": "337f56dc-6b2c-463d-a0b4-74b52da2bdd5",
   "metadata": {},
   "outputs": [],
   "source": []
  }
 ],
 "metadata": {
  "kernelspec": {
   "display_name": "Python 3 (ipykernel)",
   "language": "python",
   "name": "python3"
  },
  "language_info": {
   "codemirror_mode": {
    "name": "ipython",
    "version": 3
   },
   "file_extension": ".py",
   "mimetype": "text/x-python",
   "name": "python",
   "nbconvert_exporter": "python",
   "pygments_lexer": "ipython3",
   "version": "3.8.10"
  }
 },
 "nbformat": 4,
 "nbformat_minor": 5
}
