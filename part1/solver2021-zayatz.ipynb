{
 "cells": [
  {
   "cell_type": "code",
   "execution_count": 1,
   "id": "e283b760-96d9-4783-afaa-b6a19278ee5a",
   "metadata": {},
   "outputs": [],
   "source": [
    "#!/usr/local/bin/python3\n",
    "# solver2021.py : 2021 Sliding tile puzzle solver\n",
    "#\n",
    "# Code by: name IU ID\n",
    "#\n",
    "# Based on skeleton code by D. Crandall & B551 Staff, September 2021\n",
    "#"
   ]
  },
  {
   "cell_type": "code",
   "execution_count": 63,
   "id": "538854ce-e04f-45a2-9062-307e9342e12d",
   "metadata": {},
   "outputs": [],
   "source": [
    "import sys\n",
    "import numpy as np"
   ]
  },
  {
   "cell_type": "code",
   "execution_count": 64,
   "id": "0802f6df-4d4c-4572-aeb0-d66f2bbeda00",
   "metadata": {},
   "outputs": [],
   "source": [
    "ROWS=5\n",
    "COLS=5"
   ]
  },
  {
   "cell_type": "code",
   "execution_count": 65,
   "id": "15b9c825-a27b-43b0-88bc-63cf2b755d43",
   "metadata": {},
   "outputs": [],
   "source": [
    "def printable_board(board):\n",
    "    return [ ('%3d ')*COLS  % board[j:(j+COLS)] for j in range(0, ROWS*COLS, COLS) ]"
   ]
  },
  {
   "cell_type": "code",
   "execution_count": 69,
   "id": "92c132ec-d509-4bed-8bb3-42ad09fc0e0f",
   "metadata": {},
   "outputs": [],
   "source": [
    "def parse_board(filename):\n",
    "    with open(filename, \"r\") as f:\n",
    "        return np.array([line.split() for line in f.readlines()])"
   ]
  },
  {
   "cell_type": "code",
   "execution_count": 107,
   "id": "afc932f5-d1d9-435a-90a1-9772221583fc",
   "metadata": {},
   "outputs": [
    {
     "data": {
      "text/plain": [
       "array([['12', '6', '10', '1', '23'],\n",
       "       ['16', '17', '13', '7', '25'],\n",
       "       ['19', '14', '8', '3', '4'],\n",
       "       ['21', '15', '9', '20', '5'],\n",
       "       ['22', '18', '24', '2', '11']], dtype='<U2')"
      ]
     },
     "execution_count": 107,
     "metadata": {},
     "output_type": "execute_result"
    }
   ],
   "source": [
    "board = parse_board('board1.txt')\n",
    "board"
   ]
  },
  {
   "cell_type": "code",
   "execution_count": 301,
   "id": "1bf945c3-32cc-480e-825a-f3b015498fa9",
   "metadata": {},
   "outputs": [
    {
     "data": {
      "text/plain": [
       "array([['1', '2', '3', '4', '5'],\n",
       "       ['6', '7', '8', '9', '10'],\n",
       "       ['11', '12', '13', '14', '15'],\n",
       "       ['16', '17', '18', '19', '20'],\n",
       "       ['21', '22', '23', '24', '25']], dtype='<U2')"
      ]
     },
     "execution_count": 301,
     "metadata": {},
     "output_type": "execute_result"
    }
   ],
   "source": [
    "goal_state = np.array([str(x) for x in range(1,26)]).reshape(5,5)\n",
    "goal_state"
   ]
  },
  {
   "cell_type": "code",
   "execution_count": 317,
   "id": "8872f817-82a1-4836-a05d-6eaf66b5928b",
   "metadata": {},
   "outputs": [],
   "source": [
    "# return a list of possible successor states\n",
    "def successors(state):\n",
    "    \n",
    "    ## outputs a 24 X 5 X 5 numpy array containing all possible board configs from current config##\n",
    "    \n",
    "    #left moves\n",
    "    L1 = np.vstack([np.roll(state[0], -1),state[1:]])\n",
    "    L2 = np.vstack([state[0], np.roll(state[1],-1), state[2:]])\n",
    "    L3 = np.vstack([state[:2], np.roll(state[2],-1), state[3:]])\n",
    "    L4 = np.vstack([state[:3], np.roll(state[3],-1), state[4:]])\n",
    "    L5 = np.vstack([state[:4], np.roll(state[4],-1)])\n",
    "\n",
    "    #right moves\n",
    "    R1 = np.vstack([np.roll(state[0],1),state[1:]])\n",
    "    R2 = np.vstack([state[0], np.roll(state[1],1), state[2:]])\n",
    "    R3 = np.vstack([state[:2], np.roll(state[2],1), state[3:]])\n",
    "    R4 = np.vstack([state[:3], np.roll(state[3],1), state[4:]])\n",
    "    R5 = np.vstack([state[:4], np.roll(state[4],1)])\n",
    "\n",
    "    #down moves\n",
    "    D1 = np.vstack([np.roll(state[:,0],1),state[:,1:].T]).T\n",
    "    D2 = np.vstack([state[:,0].T, np.roll(state[:,1],1), state[:,2:].T]).T\n",
    "    D3 = np.vstack([state[:,:2].T, np.roll(state[:,2],1), state[:,3:].T]).T\n",
    "    D4 = np.vstack([state[:,:3].T, np.roll(state[:,3],1), state[:,4:].T]).T\n",
    "    D5 = np.vstack([state[:,:4].T, np.roll(state[:,4],1), state[:,5:].T]).T\n",
    "\n",
    "    #up moves\n",
    "    U1 = np.vstack([np.roll(state[:,0],-1),state[:,1:].T]).T\n",
    "    U2 = np.vstack([state[:,0].T, np.roll(state[:,1],-1), state[:,2:].T]).T\n",
    "    U3 = np.vstack([state[:,:2].T, np.roll(state[:,2],-1), state[:,3:].T]).T\n",
    "    U4 = np.vstack([state[:,:3].T, np.roll(state[:,3],-1), state[:,4:].T]).T\n",
    "    U5 = np.vstack([state[:,:4].T, np.roll(state[:,4],-1), state[:,5:].T]).T\n",
    "    \n",
    "    #ring moves\n",
    "    flat_board = np.reshape(state, (1,25))\n",
    "\n",
    "    #outer moves\n",
    "    oc_ind = np.array([5,0,1,2,3,10,6,7,8,4,15,11,12,13,9,20,16,17,18,14,21,22,23,24,19])\n",
    "    Oc = np.reshape(flat_board[:,oc_ind],(5,5))\n",
    "\n",
    "    occ_ind = np.array([1,2,3,4,9,0,6,7,8,14,5,11,12,13,19,10,16,17,18,24,15,20,21,22,23])\n",
    "    Occ = np.reshape(flat_board[:,occ_ind],(5,5))\n",
    "\n",
    "\n",
    "    #inner moves\n",
    "    ic_ind = np.array([0,1,2,3,4,5,11,8,7,9,10,16,12,8,14,15,17,18,13,19,20,21,22,23,24])\n",
    "    Ic = np.reshape(flat_board[:,ic_ind],(5,5))\n",
    "\n",
    "    icc_ind = np.array([0,1,2,3,4,5,7,8,13,9,10,6,12,18,14,15,11,16,17,19,20,21,22,23,24])\n",
    "    Icc = np.reshape(flat_board[:,icc_ind],(5,5))\n",
    "    \n",
    "    return np.array([L1,L2,L3,L4,L5,R1,R2,R3,R4,R5,U1,U2,U3,U4,U5,D1,D2,D3,D4,D5,Oc,Occ,Ic,Icc])\n",
    "    "
   ]
  },
  {
   "cell_type": "code",
   "execution_count": 312,
   "id": "14cb45d9-344f-4f16-ba39-869749f6627b",
   "metadata": {},
   "outputs": [],
   "source": [
    "# check if we've reached the goal\n",
    "def is_goal(state):\n",
    "    goal_state = np.array([str(x) for x in range(1,26)]).reshape(5,5)\n",
    "\n",
    "    return np.all(state==goal_state)"
   ]
  },
  {
   "cell_type": "code",
   "execution_count": 8,
   "id": "78fcd424-ecb2-44ac-a1d3-a072b0562c98",
   "metadata": {},
   "outputs": [],
   "source": [
    "def solve(initial_board):\n",
    "    \"\"\"\n",
    "    1. This function should return the solution as instructed in assignment, consisting of a list of moves like [\"R2\",\"D2\",\"U1\"].\n",
    "    2. Do not add any extra parameters to the solve() function, or it will break our grading and testing code.\n",
    "       For testing we will call this function with single argument(initial_board) and it should return \n",
    "       the solution.\n",
    "    3. Please do not use any global variables, as it may cause the testing code to fail.\n",
    "    4. You can assume that all test cases will be solvable.\n",
    "    5. The current code just returns a dummy solution.\n",
    "    \"\"\"\n",
    "    return [\"Oc\",\"L2\",\"Icc\", \"R4\"]"
   ]
  },
  {
   "cell_type": "code",
   "execution_count": 320,
   "id": "9dbde4b1-93b2-4916-b1ff-50e16249f641",
   "metadata": {},
   "outputs": [
    {
     "name": "stdout",
     "output_type": "stream",
     "text": [
      "[12, 6, 10, 1, 23, 16, 17, 13, 7, 25, 19, 14, 8, 3, 4, 21, 15, 9, 20, 5, 22, 18, 24, 2, 11]\n",
      "Start state: \n",
      " 12   6  10   1  23 \n",
      " 16  17  13   7  25 \n",
      " 19  14   8   3   4 \n",
      " 21  15   9  20   5 \n",
      " 22  18  24   2  11 \n",
      "Solving...\n",
      "Solution found in 4 moves:\n",
      "Oc L2 Icc R4\n"
     ]
    }
   ],
   "source": [
    "# Please don't modify anything below this line\n",
    "#\n",
    "if __name__ == \"__main__\":\n",
    "#     if(len(sys.argv) != 2):\n",
    "#         raise(Exception(\"Error: expected a board filename\"))\n",
    "\n",
    "    start_state = []\n",
    "    with open('board1.txt', 'r') as file:#changed sys.argv[1] to run in interactive\n",
    "        for line in file:\n",
    "            start_state += [ int(i) for i in line.split() ]\n",
    "    \n",
    "    print(start_state)# this was there before\n",
    "\n",
    "#     if len(start_state) != ROWS*COLS:\n",
    "#         raise(Exception(\"Error: couldn't parse start state file\"))\n",
    "\n",
    "    print(\"Start state: \\n\" +\"\\n\".join(printable_board(tuple(start_state))))\n",
    "\n",
    "    print(\"Solving...\")\n",
    "    route = solve(tuple(start_state))\n",
    "    \n",
    "    print(\"Solution found in \" + str(len(route)) + \" moves:\" + \"\\n\" + \" \".join(route))"
   ]
  },
  {
   "cell_type": "code",
   "execution_count": null,
   "id": "337f56dc-6b2c-463d-a0b4-74b52da2bdd5",
   "metadata": {},
   "outputs": [],
   "source": []
  }
 ],
 "metadata": {
  "kernelspec": {
   "display_name": "Python 3 (ipykernel)",
   "language": "python",
   "name": "python3"
  },
  "language_info": {
   "codemirror_mode": {
    "name": "ipython",
    "version": 3
   },
   "file_extension": ".py",
   "mimetype": "text/x-python",
   "name": "python",
   "nbconvert_exporter": "python",
   "pygments_lexer": "ipython3",
   "version": "3.8.10"
  }
 },
 "nbformat": 4,
 "nbformat_minor": 5
}
