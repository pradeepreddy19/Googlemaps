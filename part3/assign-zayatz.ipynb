{
 "cells": [
  {
   "cell_type": "code",
   "execution_count": 1,
   "id": "3d73e4ef-12d1-4858-a36e-a83c5ca1c785",
   "metadata": {},
   "outputs": [],
   "source": [
    "#!/usr/local/bin/python3\n",
    "# assign.py : Assign people to teams\n",
    "#\n",
    "# Code by: name IU ID\n",
    "#\n",
    "# Based on skeleton code by D. Crandall and B551 Staff, September 2021\n",
    "#"
   ]
  },
  {
   "cell_type": "code",
   "execution_count": 2,
   "id": "23fbf969-0a86-4800-be97-a8ad7a176dc2",
   "metadata": {},
   "outputs": [],
   "source": [
    "import sys\n",
    "import time\n",
    "import numpy as np"
   ]
  },
  {
   "cell_type": "code",
   "execution_count": 3,
   "id": "68f8b018-d090-46ef-9614-feab0866b34d",
   "metadata": {},
   "outputs": [],
   "source": [
    "def assign_random_groups():\n",
    "\n",
    "    if len(people)% 3 ==0:\n",
    "        poss_n_groups = int(len(people)/3)\n",
    "    else:\n",
    "        poss_n_groups = int(np.floor(len(people)/3))+1\n",
    "\n",
    "    rand_groups = np.array([np.random.randint(0,poss_n_groups+1) for x in range(len(people))])\n",
    "\n",
    "    n_in_group =[np.count_nonzero(rand_groups == n) for n in range(poss_n_groups+1)]\n",
    "\n",
    "    while max(n_in_group)>3:\n",
    "        rand_groups = np.array([np.random.randint(0,poss_n_groups) for x in range(len(people))])\n",
    "        n_in_group =[np.count_nonzero(rand_groups == n) for n in range(poss_n_groups+1)]\n",
    "\n",
    "    assigned_groups = []\n",
    "    [assigned_groups.append(list(people[np.where(rand_groups ==n)])) for n in range(poss_n_groups+1)]\n",
    "\n",
    "    groups = assigned_groups\n",
    "\n",
    "    try:\n",
    "        groups.pop([groups[n]==[]for n in range(len(groups))].index(1))\n",
    "    except:\n",
    "        pass\n",
    "\n",
    "#     print(f'groups {groups}')\n",
    "    \n",
    "    return groups"
   ]
  },
  {
   "cell_type": "markdown",
   "id": "a010f65d-e259-47dd-9031-03a200a58290",
   "metadata": {},
   "source": [
    "# Cost function"
   ]
  },
  {
   "cell_type": "code",
   "execution_count": 4,
   "id": "12c0ebd7-1e51-4dc6-a6e2-43ac9c8d25c0",
   "metadata": {},
   "outputs": [],
   "source": [
    "def grading():\n",
    "    n_groups = len(groups)\n",
    "    \n",
    "    return n_groups*5"
   ]
  },
  {
   "cell_type": "code",
   "execution_count": 5,
   "id": "e1e119d4-7718-4bad-a1c0-4cee398cac3d",
   "metadata": {
    "tags": []
   },
   "outputs": [],
   "source": [
    "def wrong_group_size():\n",
    "\n",
    "    assigned_group_size=[groups_size[group] for group in group_assigned]\n",
    "    group_size_compare = [assigned_group_size[n]==want_group_size[n] for n in range(len(people))]\n",
    "    n_wrong_groups = len(people) - np.count_nonzero(group_size_compare)\n",
    "    \n",
    "    return n_wrong_groups*2\n"
   ]
  },
  {
   "cell_type": "code",
   "execution_count": 6,
   "id": "9470959a-5efe-49c8-be04-40d51d3cbdf7",
   "metadata": {},
   "outputs": [],
   "source": [
    "def wanted_not_in_assigned():\n",
    "\n",
    "    people_assigned_mask = people_assigned.copy()\n",
    "    for n, row in enumerate(want):\n",
    "        for m, item in enumerate(row):\n",
    "            if item == 'xxx':\n",
    "                people_assigned_mask[n] = people_assigned_mask[n]+['xxx']\n",
    "\n",
    "    match_wanted_assigned = [[want[i][n] in people_assigned_mask[i] for n in range(len(want[i]))] for i in range(len(people))]\n",
    "    match_wanted_assigned = [elem for row in match_wanted_assigned for elem in row]\n",
    "    \n",
    "    wanted_not_assigned = len(match_wanted_assigned)- np.count_nonzero(match_wanted_assigned)\n",
    "    \n",
    "    return wanted_not_assigned *(0.05*60)"
   ]
  },
  {
   "cell_type": "code",
   "execution_count": 7,
   "id": "c0bea72e-d793-46d0-9490-711897e7e79b",
   "metadata": {},
   "outputs": [],
   "source": [
    "def not_wanted_in_assigned():    \n",
    "    match_not_want_assigned = [[not_want[i][n] in people_assigned[i] for n in range(len(not_want[i]))] for i in range(len(people))]\n",
    "    match_not_want_assigned = [elem for row in match_not_want_assigned for elem in row]\n",
    "    not_want_assigned = np.count_nonzero(match_not_want_assigned)\n",
    "\n",
    "    return not_want_assigned*10"
   ]
  },
  {
   "cell_type": "code",
   "execution_count": 8,
   "id": "932a9432-be28-41c9-8b6c-c349ea9c7d38",
   "metadata": {},
   "outputs": [],
   "source": [
    "def calculate_cost():\n",
    "\n",
    "    cost =int(grading() + wrong_group_size() + wanted_not_in_assigned() + not_wanted_in_assigned())\n",
    "   \n",
    "    return cost\n",
    "\n"
   ]
  },
  {
   "cell_type": "markdown",
   "id": "364f83b0-62b0-4da9-9cd9-f795743fe78a",
   "metadata": {},
   "source": [
    "# Random search\n",
    "test to see if the cost functions and assigne random group funcions are coded correctly\n"
   ]
  },
  {
   "cell_type": "code",
   "execution_count": 14,
   "id": "aaa152c7-d0ff-4a5e-9921-5e5727ae634a",
   "metadata": {},
   "outputs": [
    {
     "name": "stdout",
     "output_type": "stream",
     "text": [
      "[['nthakurd', 'zhou', 'zhang'], ['djcran', 'zhao', 'wang5'], ['fanjun', 'vkvats', 'feng'], ['sulagaop', 'wu'], ['sahmaini', 'sun', 'li'], ['zheng', 'wang', 'chen'], ['qian', 'zhang3', 'li4']] 131\n",
      "[['zhou', 'wang'], ['djcran', 'fanjun', 'wang5'], ['nthakurd', 'sun', 'li4'], ['sahmaini', 'qian', 'li'], ['zhao', 'zhang3', 'zhang'], ['vkvats', 'feng', 'chen'], ['sulagaop', 'wu', 'zheng']] 130\n",
      "[['sahmaini', 'wang', 'li4'], ['fanjun', 'zhao', 'wang5'], ['sun', 'li', 'zheng'], ['djcran', 'chen', 'zhang3'], ['qian', 'zhou', 'zhang'], ['nthakurd', 'wu'], ['sulagaop', 'vkvats', 'feng']] 129\n",
      "[['zhang3', 'li4', 'wang5'], ['sulagaop', 'fanjun', 'wang'], ['zhao', 'feng'], ['sahmaini', 'zhou', 'chen'], ['nthakurd', 'li', 'wu'], ['djcran', 'vkvats', 'zheng'], ['qian', 'sun', 'zhang']] 128\n",
      "[['djcran', 'zhou', 'zhang'], ['sahmaini', 'vkvats', 'li4'], ['sulagaop', 'li', 'wu'], ['fanjun', 'zhang3', 'wang5'], ['nthakurd', 'zhao', 'zheng'], ['qian', 'sun', 'wang'], ['feng', 'chen']] 127\n",
      "done in 38.031 seconds\n"
     ]
    }
   ],
   "source": [
    "time_0 = time.time()\n",
    "\n",
    "filename = 'test3.txt'\n",
    "with open(filename) as f:\n",
    "    lines = f.readlines()\n",
    "\n",
    "survey_text = [line.rstrip('\\n') for line in lines]\n",
    "survey_data = np.array([entry.split() for entry in survey_text])\n",
    "\n",
    "#survey inputs\n",
    "people = survey_data[:,0]\n",
    "want = [item.split('-') for item in survey_data[:,1]]\n",
    "not_want = [item.split(',') for item in survey_data[:,2]]\n",
    "want_group_size = [len(item) for item in want]\n",
    "\n",
    "min_cost = 100000000\n",
    "n = 1\n",
    "for n in range(1000):\n",
    "\n",
    "    # assign group\n",
    "    groups = assign_random_groups()\n",
    "    # #group example from assignment instructions\n",
    "    # groups = [['djcran','vkvats','nthakurd'], [\"sahmaini\"], [\"sulagaop\", 'fanjun']]\n",
    "\n",
    "    # group stats\n",
    "    n_groups = len(groups)\n",
    "    groups_size = [len(group) for group in groups]\n",
    "\n",
    "    people_group_mat = [[people[x] in group for group in groups] for x in range(len(people))]\n",
    "    group_assigned = [people_group_mat[n].index(1) for n in range(len(people_group_mat))]\n",
    "\n",
    "    people_assigned =[groups[n] for n in group_assigned]\n",
    "\n",
    "    cost = calculate_cost()\n",
    "    \n",
    "    if cost < min_cost:\n",
    "        min_cost_groups = groups\n",
    "        min_cost = cost\n",
    "        print(min_cost_groups, min_cost)\n",
    "\n",
    "print(f'done in {np.round(time.time()-time_0, 3)} seconds')\n",
    "\n",
    "    \n",
    "   "
   ]
  },
  {
   "cell_type": "code",
   "execution_count": 65,
   "id": "964a32fe-b357-4524-891f-57e568fd7e34",
   "metadata": {},
   "outputs": [],
   "source": [
    "def solver(input_file):\n",
    "    \"\"\"\n",
    "    1. This function should take the name of a .txt input file in the format indicated in the assignment.\n",
    "    2. It should return a dictionary with the following keys:\n",
    "        - \"assigned-groups\" : a list of groups assigned by the program, each consisting of usernames separated by hyphens\n",
    "        - \"total-cost\" : total cost (time spent by instructors in minutes) in the group assignment\n",
    "    3. Do not add any extra parameters to the solver() function, or it will break our grading and testing code.\n",
    "    4. Please do not use any global variables, as it may cause the testing code to fail.\n",
    "    5. To handle the fact that some problems may take longer than others, and you don't know ahead of time how\n",
    "       much time it will take to find the best solution, you can compute a series of solutions and then\n",
    "       call \"yield\" to return that preliminary solution. Your program can continue yielding multiple times;\n",
    "       our test program will take the last answer you 'yielded' once time expired.\n",
    "    \"\"\"\n",
    "\n",
    "    # Simple example. First we yield a quick solution\n",
    "    yield({\"assigned-groups\": [\"vibvats-djcran-zkachwal\", \"shah12\", \"vrmath\"],\n",
    "               \"total-cost\" : 12})\n",
    "\n",
    "    # Then we think a while and return another solution:\n",
    "    time.sleep(10)\n",
    "    yield({\"assigned-groups\": [\"vibvats-djcran-zkachwal\", \"shah12-vrmath\"],\n",
    "               \"total-cost\" : 10})\n",
    "\n",
    "    # This solution will never befound, but that's ok; program will be killed eventually by the\n",
    "    #  test script.\n",
    "    while True:\n",
    "        pass\n",
    "    \n",
    "    yield({\"assigned-groups\": [\"vibvats-djcran\", \"zkachwal-shah12-vrmath\"],\n",
    "               \"total-cost\" : 9})"
   ]
  },
  {
   "cell_type": "code",
   "execution_count": 67,
   "id": "9781bd5f-fae3-49a4-8310-1b3f62d2d77c",
   "metadata": {},
   "outputs": [
    {
     "data": {
      "text/plain": [
       "<generator object solver at 0x00000279957C8F20>"
      ]
     },
     "execution_count": 67,
     "metadata": {},
     "output_type": "execute_result"
    }
   ],
   "source": [
    "solve('test1.txt')"
   ]
  },
  {
   "cell_type": "code",
   "execution_count": 68,
   "id": "610fab8f-f01e-483a-859f-52d3ad67dc73",
   "metadata": {},
   "outputs": [
    {
     "name": "stdout",
     "output_type": "stream",
     "text": [
      "----- Latest solution:\n",
      "vibvats-djcran-zkachwal\n",
      "shah12\n",
      "vrmath\n",
      "\n",
      "Assignment cost: 12 \n",
      "\n"
     ]
    },
    {
     "ename": "AttributeError",
     "evalue": "'builtin_function_or_method' object has no attribute 'sleep'",
     "output_type": "error",
     "traceback": [
      "\u001b[1;31m---------------------------------------------------------------------------\u001b[0m",
      "\u001b[1;31mAttributeError\u001b[0m                            Traceback (most recent call last)",
      "\u001b[1;32m<ipython-input-68-60025b3e6afd>\u001b[0m in \u001b[0;36m<module>\u001b[1;34m\u001b[0m\n\u001b[1;32m----> 1\u001b[1;33m \u001b[1;32mfor\u001b[0m \u001b[0mresult\u001b[0m \u001b[1;32min\u001b[0m \u001b[0msolver\u001b[0m\u001b[1;33m(\u001b[0m\u001b[1;34m'test1.txt'\u001b[0m\u001b[1;33m)\u001b[0m\u001b[1;33m:\u001b[0m\u001b[1;33m\u001b[0m\u001b[1;33m\u001b[0m\u001b[0m\n\u001b[0m\u001b[0;32m      2\u001b[0m     \u001b[0mprint\u001b[0m\u001b[1;33m(\u001b[0m\u001b[1;34m\"----- Latest solution:\\n\"\u001b[0m \u001b[1;33m+\u001b[0m \u001b[1;34m\"\\n\"\u001b[0m\u001b[1;33m.\u001b[0m\u001b[0mjoin\u001b[0m\u001b[1;33m(\u001b[0m\u001b[0mresult\u001b[0m\u001b[1;33m[\u001b[0m\u001b[1;34m\"assigned-groups\"\u001b[0m\u001b[1;33m]\u001b[0m\u001b[1;33m)\u001b[0m\u001b[1;33m)\u001b[0m\u001b[1;33m\u001b[0m\u001b[1;33m\u001b[0m\u001b[0m\n\u001b[0;32m      3\u001b[0m     \u001b[0mprint\u001b[0m\u001b[1;33m(\u001b[0m\u001b[1;34m\"\\nAssignment cost: %d \\n\"\u001b[0m \u001b[1;33m%\u001b[0m \u001b[0mresult\u001b[0m\u001b[1;33m[\u001b[0m\u001b[1;34m\"total-cost\"\u001b[0m\u001b[1;33m]\u001b[0m\u001b[1;33m)\u001b[0m\u001b[1;33m\u001b[0m\u001b[1;33m\u001b[0m\u001b[0m\n",
      "\u001b[1;32m<ipython-input-65-612e2f60fb98>\u001b[0m in \u001b[0;36msolver\u001b[1;34m(input_file)\u001b[0m\n\u001b[0;32m     18\u001b[0m \u001b[1;33m\u001b[0m\u001b[0m\n\u001b[0;32m     19\u001b[0m     \u001b[1;31m# Then we think a while and return another solution:\u001b[0m\u001b[1;33m\u001b[0m\u001b[1;33m\u001b[0m\u001b[1;33m\u001b[0m\u001b[0m\n\u001b[1;32m---> 20\u001b[1;33m     \u001b[0mtime\u001b[0m\u001b[1;33m.\u001b[0m\u001b[0msleep\u001b[0m\u001b[1;33m(\u001b[0m\u001b[1;36m10\u001b[0m\u001b[1;33m)\u001b[0m\u001b[1;33m\u001b[0m\u001b[1;33m\u001b[0m\u001b[0m\n\u001b[0m\u001b[0;32m     21\u001b[0m     yield({\"assigned-groups\": [\"vibvats-djcran-zkachwal\", \"shah12-vrmath\"],\n\u001b[0;32m     22\u001b[0m                \"total-cost\" : 10})\n",
      "\u001b[1;31mAttributeError\u001b[0m: 'builtin_function_or_method' object has no attribute 'sleep'"
     ]
    }
   ],
   "source": [
    "for result in solver('test1.txt'):\n",
    "    print(\"----- Latest solution:\\n\" + \"\\n\".join(result[\"assigned-groups\"]))\n",
    "    print(\"\\nAssignment cost: %d \\n\" % result[\"total-cost\"])"
   ]
  },
  {
   "cell_type": "code",
   "execution_count": 66,
   "id": "6f100cb5-a4a6-40ba-918c-9067c7289e77",
   "metadata": {},
   "outputs": [
    {
     "ename": "Exception",
     "evalue": "Error: expected an input filename",
     "output_type": "error",
     "traceback": [
      "\u001b[1;31m---------------------------------------------------------------------------\u001b[0m",
      "\u001b[1;31mException\u001b[0m                                 Traceback (most recent call last)",
      "\u001b[1;32m<ipython-input-66-87c0770391ba>\u001b[0m in \u001b[0;36m<module>\u001b[1;34m\u001b[0m\n\u001b[0;32m      1\u001b[0m \u001b[1;32mif\u001b[0m \u001b[0m__name__\u001b[0m \u001b[1;33m==\u001b[0m \u001b[1;34m\"__main__\"\u001b[0m\u001b[1;33m:\u001b[0m\u001b[1;33m\u001b[0m\u001b[1;33m\u001b[0m\u001b[0m\n\u001b[0;32m      2\u001b[0m     \u001b[1;32mif\u001b[0m\u001b[1;33m(\u001b[0m\u001b[0mlen\u001b[0m\u001b[1;33m(\u001b[0m\u001b[0msys\u001b[0m\u001b[1;33m.\u001b[0m\u001b[0margv\u001b[0m\u001b[1;33m)\u001b[0m \u001b[1;33m!=\u001b[0m \u001b[1;36m2\u001b[0m\u001b[1;33m)\u001b[0m\u001b[1;33m:\u001b[0m\u001b[1;33m\u001b[0m\u001b[1;33m\u001b[0m\u001b[0m\n\u001b[1;32m----> 3\u001b[1;33m         \u001b[1;32mraise\u001b[0m\u001b[1;33m(\u001b[0m\u001b[0mException\u001b[0m\u001b[1;33m(\u001b[0m\u001b[1;34m\"Error: expected an input filename\"\u001b[0m\u001b[1;33m)\u001b[0m\u001b[1;33m)\u001b[0m\u001b[1;33m\u001b[0m\u001b[1;33m\u001b[0m\u001b[0m\n\u001b[0m\u001b[0;32m      4\u001b[0m \u001b[1;33m\u001b[0m\u001b[0m\n\u001b[0;32m      5\u001b[0m     \u001b[1;32mfor\u001b[0m \u001b[0mresult\u001b[0m \u001b[1;32min\u001b[0m \u001b[0msolver\u001b[0m\u001b[1;33m(\u001b[0m\u001b[0msys\u001b[0m\u001b[1;33m.\u001b[0m\u001b[0margv\u001b[0m\u001b[1;33m[\u001b[0m\u001b[1;36m1\u001b[0m\u001b[1;33m]\u001b[0m\u001b[1;33m)\u001b[0m\u001b[1;33m:\u001b[0m\u001b[1;33m\u001b[0m\u001b[1;33m\u001b[0m\u001b[0m\n",
      "\u001b[1;31mException\u001b[0m: Error: expected an input filename"
     ]
    }
   ],
   "source": [
    "if __name__ == \"__main__\":\n",
    "    if(len(sys.argv) != 2):\n",
    "        raise(Exception(\"Error: expected an input filename\"))\n",
    "\n",
    "    for result in solver(sys.argv[1]):\n",
    "        print(\"----- Latest solution:\\n\" + \"\\n\".join(result[\"assigned-groups\"]))\n",
    "        print(\"\\nAssignment cost: %d \\n\" % result[\"total-cost\"])\n",
    "    "
   ]
  },
  {
   "cell_type": "code",
   "execution_count": null,
   "id": "633ba591-c7bb-4846-96cd-b2363ea481cd",
   "metadata": {},
   "outputs": [],
   "source": []
  }
 ],
 "metadata": {
  "kernelspec": {
   "display_name": "Python 3",
   "language": "python",
   "name": "python3"
  },
  "language_info": {
   "codemirror_mode": {
    "name": "ipython",
    "version": 3
   },
   "file_extension": ".py",
   "mimetype": "text/x-python",
   "name": "python",
   "nbconvert_exporter": "python",
   "pygments_lexer": "ipython3",
   "version": "3.8.8"
  }
 },
 "nbformat": 4,
 "nbformat_minor": 5
}
