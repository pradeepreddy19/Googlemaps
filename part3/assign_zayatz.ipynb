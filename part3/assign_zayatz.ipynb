{
 "cells": [
  {
   "cell_type": "code",
   "execution_count": 1,
   "metadata": {
    "id": "3d73e4ef-12d1-4858-a36e-a83c5ca1c785"
   },
   "outputs": [],
   "source": [
    "#!/usr/local/bin/python3\n",
    "# assign.py : Assign people to teams\n",
    "#\n",
    "# Code by: name IU ID\n",
    "#\n",
    "# Based on skeleton code by D. Crandall and B551 Staff, September 2021\n",
    "#"
   ]
  },
  {
   "cell_type": "code",
   "execution_count": 2,
   "metadata": {
    "id": "23fbf969-0a86-4800-be97-a8ad7a176dc2"
   },
   "outputs": [],
   "source": [
    "import sys\n",
    "import time\n",
    "import numpy as np"
   ]
  },
  {
   "cell_type": "markdown",
   "metadata": {
    "id": "a010f65d-e259-47dd-9031-03a200a58290"
   },
   "source": [
    "# Cost function"
   ]
  },
  {
   "cell_type": "code",
   "execution_count": 3,
   "metadata": {
    "id": "12c0ebd7-1e51-4dc6-a6e2-43ac9c8d25c0"
   },
   "outputs": [],
   "source": [
    "def grading(groups):\n",
    "    n_groups = len(groups)\n",
    "    \n",
    "    return n_groups*5"
   ]
  },
  {
   "cell_type": "code",
   "execution_count": 4,
   "metadata": {
    "id": "e1e119d4-7718-4bad-a1c0-4cee398cac3d",
    "tags": []
   },
   "outputs": [],
   "source": [
    "def wrong_group_size(group_assigned, want_group_size, groups_size):\n",
    "\n",
    "    assigned_group_size=[groups_size[group] for group in group_assigned]\n",
    "    group_size_compare = [assigned_group_size[n]==want_group_size[n] for n in range(len(group_assigned))]\n",
    "    n_wrong_groups = len(group_assigned) - np.count_nonzero(group_size_compare)\n",
    "    \n",
    "    return n_wrong_groups*2\n"
   ]
  },
  {
   "cell_type": "code",
   "execution_count": 5,
   "metadata": {
    "id": "9470959a-5efe-49c8-be04-40d51d3cbdf7"
   },
   "outputs": [],
   "source": [
    "def wanted_not_in_assigned(people_assigned, want):\n",
    "\n",
    "    people_assigned_mask = people_assigned.copy()\n",
    "    for n, row in enumerate(want):\n",
    "        for m, item in enumerate(row):\n",
    "            if item in ['xxx','zzz']:\n",
    "                people_assigned_mask[n] = people_assigned_mask[n]+['xxx','zzz']\n",
    "\n",
    "    match_wanted_assigned = [[want[i][n] in people_assigned_mask[i] for n in range(len(want[i]))] for i in range(len(people_assigned))]\n",
    "    match_wanted_assigned = [elem for row in match_wanted_assigned for elem in row]\n",
    "    \n",
    "    wanted_not_assigned = len(match_wanted_assigned)- np.count_nonzero(match_wanted_assigned)\n",
    "    \n",
    "    return wanted_not_assigned *(0.05*60)"
   ]
  },
  {
   "cell_type": "code",
   "execution_count": 6,
   "metadata": {
    "id": "c0bea72e-d793-46d0-9490-711897e7e79b"
   },
   "outputs": [],
   "source": [
    "def not_wanted_in_assigned(people_assigned, not_want):    \n",
    "    match_not_want_assigned = [[not_want[i][n] in people_assigned[i] for n in range(len(not_want[i]))] for i in range(len(people_assigned))]\n",
    "    match_not_want_assigned = [elem for row in match_not_want_assigned for elem in row]\n",
    "    not_want_assigned = np.count_nonzero(match_not_want_assigned)\n",
    "\n",
    "    return not_want_assigned*10"
   ]
  },
  {
   "cell_type": "markdown",
   "metadata": {
    "id": "b1287fe2-a628-4d80-ba45-542d6ba998ce"
   },
   "source": [
    "# Check if the cost functions work on the example given in the instructions"
   ]
  },
  {
   "cell_type": "code",
   "execution_count": null,
   "metadata": {
    "id": "34e907d1-82fa-432b-8891-d267a9ebeac3",
    "outputId": "3fe779d8-522f-4da4-e4f0-d10303f45207"
   },
   "outputs": [
    {
     "data": {
      "text/plain": [
       "array([['djcran', 'djcran-vkvats-nthakurd', 'sahmaini'],\n",
       "       ['sahmaini', 'sahmaini', '_'],\n",
       "       ['sulagaop', 'sulagaop-xxx-xxx', '_'],\n",
       "       ['fanjun', 'fanjun-xxx', 'nthakurd'],\n",
       "       ['nthakurd', 'nthakurd', 'djcran,fanjun'],\n",
       "       ['vkvats', 'vkvats-sahmaini', '_']], dtype='<U22')"
      ]
     },
     "execution_count": 7,
     "metadata": {},
     "output_type": "execute_result"
    }
   ],
   "source": [
    "filename = 'test1.txt'\n",
    "\n",
    "with open(filename) as f:\n",
    "    lines = f.readlines()\n",
    "\n",
    "survey_text = [line.rstrip('\\n') for line in lines]\n",
    "survey_data = np.array([entry.split() for entry in survey_text])\n",
    "survey_data"
   ]
  },
  {
   "cell_type": "code",
   "execution_count": null,
   "metadata": {
    "id": "fad5e294-eacf-47a9-81f4-d075457d1cd9",
    "outputId": "dea79636-e2f1-45fc-9053-8753fef1ef07"
   },
   "outputs": [
    {
     "name": "stdout",
     "output_type": "stream",
     "text": [
      "people ['djcran' 'sahmaini' 'sulagaop' 'fanjun' 'nthakurd' 'vkvats']\n",
      "want [['djcran', 'vkvats', 'nthakurd'], ['sahmaini'], ['sulagaop', 'xxx', 'xxx'], ['fanjun', 'xxx'], ['nthakurd'], ['vkvats', 'sahmaini']]\n",
      "not_want [['sahmaini'], ['_'], ['_'], ['nthakurd'], ['djcran', 'fanjun'], ['_']]\n",
      "want_group_size [3, 1, 3, 2, 1, 2]\n"
     ]
    }
   ],
   "source": [
    "#survey inputs\n",
    "people = survey_data[:,0]\n",
    "want = [item.split('-') for item in survey_data[:,1]]\n",
    "not_want = [item.split(',') for item in survey_data[:,2]]\n",
    "want_group_size = [len(item) for item in want]\n",
    "\n",
    "print(f'people {people}')\n",
    "print (f'want {want}')\n",
    "print (f'not_want {not_want}')\n",
    "print (f'want_group_size {want_group_size}')"
   ]
  },
  {
   "cell_type": "code",
   "execution_count": null,
   "metadata": {
    "id": "725ff333-0774-4bf7-a4c6-02eb492f0611",
    "outputId": "0c74845e-3e2b-4ccf-d65f-7719c6e1073e"
   },
   "outputs": [
    {
     "name": "stdout",
     "output_type": "stream",
     "text": [
      "groups from example [['djcran', 'vkvats', 'nthakurd'], ['sahmaini'], ['sulagaop', 'fanjun']]\n"
     ]
    }
   ],
   "source": [
    "# assign a group\n",
    "#group example from assignment instructions\n",
    "groups = [['djcran','vkvats','nthakurd'], [\"sahmaini\"], [\"sulagaop\", 'fanjun']]\n",
    "print(f'groups from example {groups}')\n"
   ]
  },
  {
   "cell_type": "code",
   "execution_count": null,
   "metadata": {
    "id": "d67f6dbb-90ca-43be-b396-ab8b45edf6b7",
    "outputId": "20e37080-de6f-4fe3-dc42-92e724ad15a9"
   },
   "outputs": [
    {
     "name": "stdout",
     "output_type": "stream",
     "text": [
      "n_groups 3\n",
      "groups_size [3, 1, 2]\n",
      "group_assigned [0, 1, 2, 2, 0, 0]\n",
      "people_assigned [['djcran', 'vkvats', 'nthakurd'], ['sahmaini'], ['sulagaop', 'fanjun'], ['sulagaop', 'fanjun'], ['djcran', 'vkvats', 'nthakurd'], ['djcran', 'vkvats', 'nthakurd']]\n"
     ]
    }
   ],
   "source": [
    "# group stats\n",
    "n_groups = len(groups)\n",
    "groups_size = [len(group) for group in groups]\n",
    "\n",
    "people_group_mat = [[people[x] in group for group in groups] for x in range(len(people))]\n",
    "group_assigned = [people_group_mat[n].index(1) for n in range(len(people_group_mat))]\n",
    "\n",
    "people_assigned =[groups[n] for n in group_assigned]\n",
    "\n",
    "print (f'n_groups {n_groups}')\n",
    "print(f'groups_size {groups_size}')\n",
    "print (f'group_assigned {group_assigned}')\n",
    "print (f'people_assigned {people_assigned}')"
   ]
  },
  {
   "cell_type": "code",
   "execution_count": null,
   "metadata": {
    "id": "4c2e4a41-5f17-434d-9a3a-a93f165a0c14",
    "outputId": "f892a620-4717-48d6-f30e-fb5c5d691f43"
   },
   "outputs": [
    {
     "name": "stdout",
     "output_type": "stream",
     "text": [
      "grading 15\n",
      "cost_wrong_group_size 6\n",
      "cost_wanted_not_in_group 3.0\n",
      "cost_not_wanted_in_group 10\n",
      "cost 34.0\n"
     ]
    }
   ],
   "source": [
    "#calculate cost\n",
    "cost_grading = grading(groups)\n",
    "print(f'grading {cost_grading}')\n",
    "\n",
    "cost_wrong_group_size = wrong_group_size(group_assigned, want_group_size, groups_size)\n",
    "print(f'cost_wrong_group_size {cost_wrong_group_size}')\n",
    "\n",
    "cost_wanted_not_in_group = wanted_not_in_assigned(people_assigned, want)\n",
    "print(f'cost_wanted_not_in_group {cost_wanted_not_in_group}')\n",
    "\n",
    "cost_not_wanted_in_group = not_wanted_in_assigned(people_assigned, not_want)\n",
    "print(f'cost_not_wanted_in_group {cost_not_wanted_in_group}')\n",
    "\n",
    "cost = cost_grading + cost_wrong_group_size + cost_wanted_not_in_group + cost_not_wanted_in_group\n",
    "print (f'cost {cost}')"
   ]
  },
  {
   "cell_type": "markdown",
   "metadata": {
    "id": "364f83b0-62b0-4da9-9cd9-f795743fe78a"
   },
   "source": [
    "# Random search - fixed number of iterations\n"
   ]
  },
  {
   "cell_type": "code",
   "execution_count": 17,
   "metadata": {
    "id": "68f8b018-d090-46ef-9614-feab0866b34d"
   },
   "outputs": [],
   "source": [
    "def assign_random_groups(people):\n",
    "\n",
    "    if len(people)% 3 ==0:\n",
    "        poss_n_groups = int(len(people)/3)\n",
    "    else:\n",
    "        poss_n_groups = int(np.floor(len(people)/3))+1\n",
    "\n",
    "    rand_groups = np.array([np.random.randint(0,poss_n_groups+1) for x in range(len(people))])\n",
    "\n",
    "    n_in_group =[np.count_nonzero(rand_groups == n) for n in range(poss_n_groups+1)]\n",
    "\n",
    "    while max(n_in_group)>3:\n",
    "        rand_groups = np.array([np.random.randint(0,poss_n_groups) for x in range(len(people))])\n",
    "        n_in_group =[np.count_nonzero(rand_groups == n) for n in range(poss_n_groups+1)]\n",
    "\n",
    "    assigned_groups = []\n",
    "    [assigned_groups.append(list(people[np.where(rand_groups ==n)])) for n in range(poss_n_groups+1)]\n",
    "\n",
    "    groups = assigned_groups\n",
    "\n",
    "    try:\n",
    "        groups.pop([groups[n]==[]for n in range(len(groups))].index(1))\n",
    "    except:\n",
    "        pass\n",
    "\n",
    "#     print(f'groups {groups}')\n",
    "    \n",
    "    return groups"
   ]
  },
  {
   "cell_type": "code",
   "execution_count": 19,
   "metadata": {
    "id": "aaa152c7-d0ff-4a5e-9921-5e5727ae634a",
    "tags": []
   },
   "outputs": [],
   "source": [
    "def solver(filename):\n",
    "    \n",
    "#     filename ='test1.txt'    \n",
    "\n",
    "    with open(filename) as f:\n",
    "        lines = f.readlines()\n",
    "\n",
    "    survey_text = [line.rstrip('\\n') for line in lines]\n",
    "    survey_data = np.array([entry.split() for entry in survey_text])\n",
    "\n",
    "    #survey inputs\n",
    "    people = survey_data[:,0]\n",
    "    want = [item.split('-') for item in survey_data[:,1]]\n",
    "    not_want = [item.split(',') for item in survey_data[:,2]]\n",
    "    want_group_size = [len(item) for item in want]\n",
    "\n",
    "\n",
    "\n",
    "    min_cost = 100000000\n",
    "    n = 1\n",
    "    runs = 100\n",
    "    for n in range(runs):\n",
    "        #randomly generated group\n",
    "        rand_groups = assign_random_groups(people)\n",
    "        groups = rand_groups\n",
    "#         group example from assignment instructions\n",
    "#         groups = [['djcran','vkvats','nthakurd'], [\"sahmaini\"], [\"sulagaop\", 'fanjun']]\n",
    "#         print(f'groups from example {groups}')\n",
    "\n",
    "        # group stats\n",
    "        n_groups = len(groups)\n",
    "        groups_size = [len(group) for group in groups]\n",
    "\n",
    "        people_group_mat = [[people[x] in group for group in groups] for x in range(len(people))]\n",
    "        group_assigned = [people_group_mat[n].index(1) for n in range(len(people_group_mat))]\n",
    "\n",
    "        people_assigned =[groups[n] for n in group_assigned]\n",
    "\n",
    "\n",
    "        #calculate cost\n",
    "        cost_grading = grading(groups)\n",
    "        cost_wrong_group_size = wrong_group_size(group_assigned, want_group_size, groups_size)\n",
    "        cost_wanted_not_in_group = wanted_not_in_assigned(people_assigned, want)\n",
    "        cost_not_wanted_in_group = not_wanted_in_assigned(people_assigned, not_want)\n",
    "\n",
    "        cost = cost_grading + cost_wrong_group_size + cost_wanted_not_in_group + cost_not_wanted_in_group\n",
    "\n",
    "\n",
    "        if cost < min_cost:\n",
    "            min_cost_groups = groups\n",
    "            min_cost = cost\n",
    "            print(n, min_cost_groups, min_cost)\n",
    "        \n",
    "        n+=1\n",
    "        \n",
    "    min_cost_groups_str = ['-'.join(x) for x in min_cost_groups]\n",
    "    print (f'\\nmin_cost_group after {runs} random samples is {min_cost_groups_str, min_cost}')\n",
    "\n",
    "    result = {\"assigned-groups\": min_cost_groups_str,\n",
    "              \"total-cost\" : min_cost}\n",
    "\n",
    "    \n",
    "\n",
    "    \n",
    "    \n",
    "    return result\n"
   ]
  },
  {
   "cell_type": "code",
   "execution_count": 42,
   "metadata": {
    "colab": {
     "base_uri": "https://localhost:8080/"
    },
    "id": "y_wzjEKeqIw7",
    "outputId": "12d55df4-3c89-44c9-fdf4-111f5902d973"
   },
   "outputs": [
    {
     "name": "stdout",
     "output_type": "stream",
     "text": [
      "0 [['djcran', 'zhao', 'wang'], ['zhou', 'wang5', 'zhang'], ['sun', 'zheng', 'zhang3'], ['nthakurd', 'qian'], ['sulagaop', 'li', 'chen'], ['wu', 'feng', 'li4'], ['sahmaini', 'fanjun', 'vkvats']] 98.0\n",
      "1 [['feng', 'wang5', 'zhang'], ['sahmaini', 'nthakurd', 'zhao'], ['fanjun', 'sun', 'zhou'], ['sulagaop', 'li4'], ['li', 'zheng', 'chen'], ['djcran', 'wu', 'wang'], ['vkvats', 'qian', 'zhang3']] 90.0\n",
      "8 [['sulagaop', 'zheng', 'li4'], ['djcran', 'zhao', 'wu'], ['li', 'zhou'], ['vkvats', 'wang', 'wang5'], ['sahmaini', 'fanjun', 'feng'], ['nthakurd', 'qian', 'chen'], ['sun', 'zhang3', 'zhang']] 89.0\n",
      "13 [['nthakurd', 'qian', 'zheng'], ['sulagaop', 'wang', 'li4'], ['zhao', 'wu', 'chen'], ['vkvats', 'feng'], ['fanjun', 'zhou', 'zhang'], ['sahmaini', 'sun', 'zhang3'], ['djcran', 'li', 'wang5']] 85.0\n",
      "29 [['wu', 'wang', 'wang5'], ['vkvats', 'feng'], ['sahmaini', 'qian', 'li'], ['nthakurd', 'zhou', 'zheng'], ['sulagaop', 'fanjun', 'sun'], ['zhao', 'li4', 'zhang'], ['djcran', 'chen', 'zhang3']] 82.0\n",
      "73 [['qian', 'li', 'zheng'], ['djcran', 'vkvats'], ['sulagaop', 'fanjun', 'wang5'], ['sahmaini', 'feng', 'zhang'], ['zhao', 'wu', 'li4'], ['zhou', 'wang', 'chen'], ['nthakurd', 'sun', 'zhang3']] 77.0\n",
      "\n",
      "min_cost_group after 100 random samples is (['qian-li-zheng', 'djcran-vkvats', 'sulagaop-fanjun-wang5', 'sahmaini-feng-zhang', 'zhao-wu-li4', 'zhou-wang-chen', 'nthakurd-sun-zhang3'], 77.0)\n"
     ]
    },
    {
     "data": {
      "text/plain": [
       "{'assigned-groups': ['qian-li-zheng',\n",
       "  'djcran-vkvats',\n",
       "  'sulagaop-fanjun-wang5',\n",
       "  'sahmaini-feng-zhang',\n",
       "  'zhao-wu-li4',\n",
       "  'zhou-wang-chen',\n",
       "  'nthakurd-sun-zhang3'],\n",
       " 'total-cost': 77.0}"
      ]
     },
     "execution_count": 42,
     "metadata": {},
     "output_type": "execute_result"
    }
   ],
   "source": [
    "solver('/content/drive/MyDrive/Colab Notebooks/test3.txt')"
   ]
  },
  {
   "cell_type": "markdown",
   "metadata": {
    "id": "vofaMzhEqIw8"
   },
   "source": [
    "# Random Search - Yield when a lower cost is found"
   ]
  },
  {
   "cell_type": "code",
   "execution_count": null,
   "metadata": {
    "id": "_CN5krV4qIw8",
    "tags": []
   },
   "outputs": [],
   "source": [
    "def solver_yield(filename):\n",
    "    \n",
    "#     filename ='test1.txt'    \n",
    "\n",
    "    with open(filename) as f:\n",
    "        lines = f.readlines()\n",
    "\n",
    "    survey_text = [line.rstrip('\\n') for line in lines]\n",
    "    survey_data = np.array([entry.split() for entry in survey_text])\n",
    "\n",
    "    #survey inputs\n",
    "    people = survey_data[:,0]\n",
    "    want = [item.split('-') for item in survey_data[:,1]]\n",
    "    not_want = [item.split(',') for item in survey_data[:,2]]\n",
    "    want_group_size = [len(item) for item in want]\n",
    "\n",
    "\n",
    "\n",
    "    min_cost = 100000000\n",
    "    while min_cost>0:\n",
    "        #randomly generated group\n",
    "        rand_groups = assign_random_groups(people)\n",
    "        groups = rand_groups\n",
    "#         group example from assignment instructions\n",
    "#         groups = [['djcran','vkvats','nthakurd'], [\"sahmaini\"], [\"sulagaop\", 'fanjun']]\n",
    "#         print(f'groups from example {groups}')\n",
    "\n",
    "        # group stats\n",
    "        n_groups = len(groups)\n",
    "        groups_size = [len(group) for group in groups]\n",
    "\n",
    "        people_group_mat = [[people[x] in group for group in groups] for x in range(len(people))]\n",
    "        group_assigned = [people_group_mat[n].index(1) for n in range(len(people_group_mat))]\n",
    "\n",
    "        people_assigned =[groups[n] for n in group_assigned]\n",
    "\n",
    "\n",
    "        #calculate cost\n",
    "        cost_grading = grading(groups)\n",
    "        cost_wrong_group_size = wrong_group_size(group_assigned, want_group_size, groups_size)\n",
    "        cost_wanted_not_in_group = wanted_not_in_assigned(people_assigned, want)\n",
    "        cost_not_wanted_in_group = not_wanted_in_assigned(people_assigned, not_want)\n",
    "\n",
    "        cost = cost_grading + cost_wrong_group_size + cost_wanted_not_in_group + cost_not_wanted_in_group\n",
    "\n",
    "\n",
    "        if cost < min_cost:\n",
    "            min_cost_groups = groups\n",
    "            min_cost = cost\n",
    "        \n",
    "        \n",
    "            min_cost_groups_str = ['-'.join(x) for x in min_cost_groups]\n",
    "\n",
    "            result = {\"assigned-groups\": min_cost_groups_str,\n",
    "                      \"total-cost\" : min_cost}\n",
    "\n",
    "    \n",
    "\n",
    "    \n",
    "    \n",
    "            yield (result)\n",
    "        \n",
    "\n"
   ]
  },
  {
   "cell_type": "code",
   "execution_count": null,
   "metadata": {
    "id": "7ea61ef2-85f4-467b-84d3-8da9c9b38266",
    "outputId": "89e876b6-8579-44f5-9ec0-08cb79f1ff77"
   },
   "outputs": [
    {
     "name": "stdout",
     "output_type": "stream",
     "text": [
      "----- Latest solution:\n",
      "qian-li-wang5\n",
      "fanjun-nthakurd-chen\n",
      "djcran-sahmaini-wu\n",
      "sulagaop-zheng-zhang3\n",
      "zhao-zhou-zhang\n",
      "vkvats-wang-li4\n",
      "sun-feng\n",
      "\n",
      "Assignment cost: 98 \n",
      "\n",
      "----- Latest solution:\n",
      "vkvats-zhao-zhou\n",
      "nthakurd-wu-zhang3\n",
      "djcran-sahmaini\n",
      "li4-wang5-zhang\n",
      "qian-li-feng\n",
      "sulagaop-zheng-wang\n",
      "fanjun-sun-chen\n",
      "\n",
      "Assignment cost: 77 \n",
      "\n",
      "----- Latest solution:\n",
      "wang-chen\n",
      "nthakurd-zheng-feng\n",
      "fanjun-sun-li\n",
      "zhou-li4-wang5\n",
      "djcran-sahmaini-sulagaop\n",
      "vkvats-qian-zhang\n",
      "zhao-wu-zhang3\n",
      "\n",
      "Assignment cost: 64 \n",
      "\n",
      "----- Latest solution:\n",
      "sahmaini-zhang\n",
      "djcran-fanjun-li4\n",
      "wu-zheng-zhang3\n",
      "vkvats-zhou-feng\n",
      "nthakurd-sun-wang\n",
      "zhao-li-chen\n",
      "sulagaop-qian-wang5\n",
      "\n",
      "Assignment cost: 63 \n",
      "\n",
      "----- Latest solution:\n",
      "sahmaini-sulagaop-wang\n",
      "sun-li-chen\n",
      "vkvats-zhao-wang5\n",
      "wu-feng\n",
      "djcran-fanjun-zheng\n",
      "nthakurd-zhou-zhang\n",
      "qian-zhang3-li4\n",
      "\n",
      "Assignment cost: 51 \n",
      "\n",
      "----- Latest solution:\n",
      "sulagaop-wu-wang\n",
      "sahmaini-zhou\n",
      "fanjun-li-zheng\n",
      "nthakurd-li4-zhang\n",
      "djcran-chen-wang5\n",
      "zhao-feng-zhang3\n",
      "vkvats-qian-sun\n",
      "\n",
      "Assignment cost: 50 \n",
      "\n",
      "----- Latest solution:\n",
      "djcran-sulagaop-vkvats\n",
      "nthakurd-zhao-zheng\n",
      "sun-li-feng\n",
      "sahmaini-qian-li4\n",
      "zhou-wang\n",
      "fanjun-wang5-zhang\n",
      "wu-chen-zhang3\n",
      "\n",
      "Assignment cost: 48 \n",
      "\n",
      "----- Latest solution:\n",
      "nthakurd-feng\n",
      "chen-zhang3-zhang\n",
      "sulagaop-wu-li4\n",
      "qian-sun-li\n",
      "sahmaini-fanjun-zhao\n",
      "djcran-zhou-wang5\n",
      "vkvats-zheng-wang\n",
      "\n",
      "Assignment cost: 47 \n",
      "\n"
     ]
    },
    {
     "ename": "KeyboardInterrupt",
     "evalue": "",
     "output_type": "error",
     "traceback": [
      "\u001b[0;31m---------------------------------------------------------------------------\u001b[0m",
      "\u001b[0;31mKeyboardInterrupt\u001b[0m                         Traceback (most recent call last)",
      "\u001b[0;32m<ipython-input-22-7d171599eba2>\u001b[0m in \u001b[0;36m<module>\u001b[0;34m\u001b[0m\n\u001b[0;32m----> 1\u001b[0;31m \u001b[0;32mfor\u001b[0m \u001b[0mresult\u001b[0m \u001b[0;32min\u001b[0m \u001b[0msolver_yield\u001b[0m\u001b[0;34m(\u001b[0m\u001b[0;34m'test3.txt'\u001b[0m\u001b[0;34m)\u001b[0m\u001b[0;34m:\u001b[0m\u001b[0;34m\u001b[0m\u001b[0;34m\u001b[0m\u001b[0m\n\u001b[0m\u001b[1;32m      2\u001b[0m     \u001b[0mprint\u001b[0m\u001b[0;34m(\u001b[0m\u001b[0;34m\"----- Latest solution:\\n\"\u001b[0m \u001b[0;34m+\u001b[0m \u001b[0;34m\"\\n\"\u001b[0m\u001b[0;34m.\u001b[0m\u001b[0mjoin\u001b[0m\u001b[0;34m(\u001b[0m\u001b[0mresult\u001b[0m\u001b[0;34m[\u001b[0m\u001b[0;34m\"assigned-groups\"\u001b[0m\u001b[0;34m]\u001b[0m\u001b[0;34m)\u001b[0m\u001b[0;34m)\u001b[0m\u001b[0;34m\u001b[0m\u001b[0;34m\u001b[0m\u001b[0m\n\u001b[1;32m      3\u001b[0m     \u001b[0mprint\u001b[0m\u001b[0;34m(\u001b[0m\u001b[0;34m\"\\nAssignment cost: %d \\n\"\u001b[0m \u001b[0;34m%\u001b[0m \u001b[0mresult\u001b[0m\u001b[0;34m[\u001b[0m\u001b[0;34m\"total-cost\"\u001b[0m\u001b[0;34m]\u001b[0m\u001b[0;34m)\u001b[0m\u001b[0;34m\u001b[0m\u001b[0;34m\u001b[0m\u001b[0m\n",
      "\u001b[0;32m<ipython-input-21-ca74f291ae94>\u001b[0m in \u001b[0;36msolver_yield\u001b[0;34m(filename)\u001b[0m\n\u001b[1;32m     20\u001b[0m     \u001b[0;32mwhile\u001b[0m \u001b[0mmin_cost\u001b[0m\u001b[0;34m>\u001b[0m\u001b[0;36m0\u001b[0m\u001b[0;34m:\u001b[0m\u001b[0;34m\u001b[0m\u001b[0;34m\u001b[0m\u001b[0m\n\u001b[1;32m     21\u001b[0m         \u001b[0;31m#randomly generated group\u001b[0m\u001b[0;34m\u001b[0m\u001b[0;34m\u001b[0m\u001b[0;34m\u001b[0m\u001b[0m\n\u001b[0;32m---> 22\u001b[0;31m         \u001b[0mrand_groups\u001b[0m \u001b[0;34m=\u001b[0m \u001b[0massign_random_groups\u001b[0m\u001b[0;34m(\u001b[0m\u001b[0mpeople\u001b[0m\u001b[0;34m)\u001b[0m\u001b[0;34m\u001b[0m\u001b[0;34m\u001b[0m\u001b[0m\n\u001b[0m\u001b[1;32m     23\u001b[0m         \u001b[0mgroups\u001b[0m \u001b[0;34m=\u001b[0m \u001b[0mrand_groups\u001b[0m\u001b[0;34m\u001b[0m\u001b[0;34m\u001b[0m\u001b[0m\n\u001b[1;32m     24\u001b[0m \u001b[0;31m#         group example from assignment instructions\u001b[0m\u001b[0;34m\u001b[0m\u001b[0;34m\u001b[0m\u001b[0;34m\u001b[0m\u001b[0m\n",
      "\u001b[0;32m<ipython-input-12-657c25982f24>\u001b[0m in \u001b[0;36massign_random_groups\u001b[0;34m(people)\u001b[0m\n\u001b[1;32m     11\u001b[0m \u001b[0;34m\u001b[0m\u001b[0m\n\u001b[1;32m     12\u001b[0m     \u001b[0;32mwhile\u001b[0m \u001b[0mmax\u001b[0m\u001b[0;34m(\u001b[0m\u001b[0mn_in_group\u001b[0m\u001b[0;34m)\u001b[0m\u001b[0;34m>\u001b[0m\u001b[0;36m3\u001b[0m\u001b[0;34m:\u001b[0m\u001b[0;34m\u001b[0m\u001b[0;34m\u001b[0m\u001b[0m\n\u001b[0;32m---> 13\u001b[0;31m         \u001b[0mrand_groups\u001b[0m \u001b[0;34m=\u001b[0m \u001b[0mnp\u001b[0m\u001b[0;34m.\u001b[0m\u001b[0marray\u001b[0m\u001b[0;34m(\u001b[0m\u001b[0;34m[\u001b[0m\u001b[0mnp\u001b[0m\u001b[0;34m.\u001b[0m\u001b[0mrandom\u001b[0m\u001b[0;34m.\u001b[0m\u001b[0mrandint\u001b[0m\u001b[0;34m(\u001b[0m\u001b[0;36m0\u001b[0m\u001b[0;34m,\u001b[0m\u001b[0mposs_n_groups\u001b[0m\u001b[0;34m)\u001b[0m \u001b[0;32mfor\u001b[0m \u001b[0mx\u001b[0m \u001b[0;32min\u001b[0m \u001b[0mrange\u001b[0m\u001b[0;34m(\u001b[0m\u001b[0mlen\u001b[0m\u001b[0;34m(\u001b[0m\u001b[0mpeople\u001b[0m\u001b[0;34m)\u001b[0m\u001b[0;34m)\u001b[0m\u001b[0;34m]\u001b[0m\u001b[0;34m)\u001b[0m\u001b[0;34m\u001b[0m\u001b[0;34m\u001b[0m\u001b[0m\n\u001b[0m\u001b[1;32m     14\u001b[0m         \u001b[0mn_in_group\u001b[0m \u001b[0;34m=\u001b[0m\u001b[0;34m[\u001b[0m\u001b[0mnp\u001b[0m\u001b[0;34m.\u001b[0m\u001b[0mcount_nonzero\u001b[0m\u001b[0;34m(\u001b[0m\u001b[0mrand_groups\u001b[0m \u001b[0;34m==\u001b[0m \u001b[0mn\u001b[0m\u001b[0;34m)\u001b[0m \u001b[0;32mfor\u001b[0m \u001b[0mn\u001b[0m \u001b[0;32min\u001b[0m \u001b[0mrange\u001b[0m\u001b[0;34m(\u001b[0m\u001b[0mposs_n_groups\u001b[0m\u001b[0;34m+\u001b[0m\u001b[0;36m1\u001b[0m\u001b[0;34m)\u001b[0m\u001b[0;34m]\u001b[0m\u001b[0;34m\u001b[0m\u001b[0;34m\u001b[0m\u001b[0m\n\u001b[1;32m     15\u001b[0m \u001b[0;34m\u001b[0m\u001b[0m\n",
      "\u001b[0;32m<ipython-input-12-657c25982f24>\u001b[0m in \u001b[0;36m<listcomp>\u001b[0;34m(.0)\u001b[0m\n\u001b[1;32m     11\u001b[0m \u001b[0;34m\u001b[0m\u001b[0m\n\u001b[1;32m     12\u001b[0m     \u001b[0;32mwhile\u001b[0m \u001b[0mmax\u001b[0m\u001b[0;34m(\u001b[0m\u001b[0mn_in_group\u001b[0m\u001b[0;34m)\u001b[0m\u001b[0;34m>\u001b[0m\u001b[0;36m3\u001b[0m\u001b[0;34m:\u001b[0m\u001b[0;34m\u001b[0m\u001b[0;34m\u001b[0m\u001b[0m\n\u001b[0;32m---> 13\u001b[0;31m         \u001b[0mrand_groups\u001b[0m \u001b[0;34m=\u001b[0m \u001b[0mnp\u001b[0m\u001b[0;34m.\u001b[0m\u001b[0marray\u001b[0m\u001b[0;34m(\u001b[0m\u001b[0;34m[\u001b[0m\u001b[0mnp\u001b[0m\u001b[0;34m.\u001b[0m\u001b[0mrandom\u001b[0m\u001b[0;34m.\u001b[0m\u001b[0mrandint\u001b[0m\u001b[0;34m(\u001b[0m\u001b[0;36m0\u001b[0m\u001b[0;34m,\u001b[0m\u001b[0mposs_n_groups\u001b[0m\u001b[0;34m)\u001b[0m \u001b[0;32mfor\u001b[0m \u001b[0mx\u001b[0m \u001b[0;32min\u001b[0m \u001b[0mrange\u001b[0m\u001b[0;34m(\u001b[0m\u001b[0mlen\u001b[0m\u001b[0;34m(\u001b[0m\u001b[0mpeople\u001b[0m\u001b[0;34m)\u001b[0m\u001b[0;34m)\u001b[0m\u001b[0;34m]\u001b[0m\u001b[0;34m)\u001b[0m\u001b[0;34m\u001b[0m\u001b[0;34m\u001b[0m\u001b[0m\n\u001b[0m\u001b[1;32m     14\u001b[0m         \u001b[0mn_in_group\u001b[0m \u001b[0;34m=\u001b[0m\u001b[0;34m[\u001b[0m\u001b[0mnp\u001b[0m\u001b[0;34m.\u001b[0m\u001b[0mcount_nonzero\u001b[0m\u001b[0;34m(\u001b[0m\u001b[0mrand_groups\u001b[0m \u001b[0;34m==\u001b[0m \u001b[0mn\u001b[0m\u001b[0;34m)\u001b[0m \u001b[0;32mfor\u001b[0m \u001b[0mn\u001b[0m \u001b[0;32min\u001b[0m \u001b[0mrange\u001b[0m\u001b[0;34m(\u001b[0m\u001b[0mposs_n_groups\u001b[0m\u001b[0;34m+\u001b[0m\u001b[0;36m1\u001b[0m\u001b[0;34m)\u001b[0m\u001b[0;34m]\u001b[0m\u001b[0;34m\u001b[0m\u001b[0;34m\u001b[0m\u001b[0m\n\u001b[1;32m     15\u001b[0m \u001b[0;34m\u001b[0m\u001b[0m\n",
      "\u001b[0;31mKeyboardInterrupt\u001b[0m: "
     ]
    }
   ],
   "source": [
    "for result in solver_yield('test3.txt'):\n",
    "    print(\"----- Latest solution:\\n\" + \"\\n\".join(result[\"assigned-groups\"]))\n",
    "    print(\"\\nAssignment cost: %d \\n\" % result[\"total-cost\"])"
   ]
  },
  {
   "cell_type": "markdown",
   "metadata": {
    "id": "XTGRTzI6qIw-"
   },
   "source": [
    "# not as random search\n",
    "\n",
    "Assign people what they want.  (random selection if 'zzz' or 'xxx'). then random groups of 3 for remaining. try 100 of these samples.\n",
    "\n",
    "Then shuffle order of surveys and repeat above\n"
   ]
  },
  {
   "cell_type": "code",
   "execution_count": 10,
   "metadata": {
    "id": "OjXvJ1vEqIw_"
   },
   "outputs": [],
   "source": [
    "def top_down_pref(people, want):\n",
    "    picked_groups = []\n",
    "    avail_people = list(people.copy())\n",
    "    #     print(f'want {want}\\n')\n",
    "\n",
    "\n",
    "\n",
    "    for n in range(len(want)):\n",
    "        try:\n",
    "            grp = []\n",
    "            for m in range (len(want[n])):\n",
    "                if want[n][m] in avail_people:\n",
    "    #                     print(f'{want[n][m]} available')\n",
    "                    grp.append(want[n][m])\n",
    "    #                     print(f'grp {grp}')\n",
    "                    avail_people.remove(want[n][m])\n",
    "    #                     print(f'avail_people {avail_people}')\n",
    "\n",
    "                if want[n][m] in ['xxx','zzz']:\n",
    "    #                     print(f'{want[n][m]} is wildcard')\n",
    "                    rand_avail = np.random.choice(avail_people, 1)[0]\n",
    "                    grp.append(rand_avail)\n",
    "    #                     print(f'grp {grp}')\n",
    "                    avail_people.remove(rand_avail)\n",
    "    #                     print(f'avail_people {avail_people}')\n",
    "\n",
    "            picked_groups.append(grp)\n",
    "    #             print(f'picked_groups {picked_groups}\\n')\n",
    "        except:\n",
    "            continue\n",
    "\n",
    "    picked_groups = [x for x in picked_groups if x!= []]\n",
    "    # print (f'picked_groups {picked_groups}')\n",
    "\n",
    "\n",
    "    picked_people = [item for sublist in picked_groups for item in sublist]\n",
    "    # print(f'picked_people {picked_people}')\n",
    "\n",
    "    people_left = list(people.copy())\n",
    "    [people_left.remove(picked_people[n]) for n in range(len(picked_people))]\n",
    "    # print(f'people_left {people_left}')\n",
    "\n",
    "\n",
    "    if people_left != []:\n",
    "        picked_groups.append(people_left)\n",
    "    #     print(f'picked groups {picked_groups}')\n",
    "\n",
    "\n",
    "\n",
    "    n_group_check = [len(grp) for grp in picked_groups]\n",
    "    # print(f'n_group_check {n_group_check}')\n",
    "    if max(n_group_check)>3:\n",
    "        group_to_split_idx = [n_group_check.index(x) for x in n_group_check if x>3][0]\n",
    "    #     print(f'group_to_split_idx {group_to_split_idx}')\n",
    "        group_to_split = picked_groups.pop(group_to_split_idx)\n",
    "        n =3\n",
    "        [picked_groups.append(group_to_split[i*n:(i+1)*n]) for i in range((len(group_to_split)+n-1)//n)]\n",
    "#         print(f'picked_groups {picked_groups}')\n",
    "\n",
    "    return picked_groups\n"
   ]
  },
  {
   "cell_type": "code",
   "execution_count": 123,
   "metadata": {
    "id": "yV2aJD-IqIxA",
    "tags": []
   },
   "outputs": [],
   "source": [
    "def solver(filename):\n",
    "    with open(filename) as f:\n",
    "        lines = f.readlines()\n",
    "    \n",
    "    survey_text = [line.rstrip('\\n') for line in lines]\n",
    "    survey_data = np.array([entry.split() for entry in survey_text])\n",
    "\n",
    "\n",
    "    min_cost = 100000000\n",
    "    shuffles = 1\n",
    "    for shuffles in range(1000):\n",
    "  \n",
    "        np.random.shuffle(survey_data)\n",
    "\n",
    "        #survey inputs\n",
    "        people = survey_data[:,0]\n",
    "        want = [item.split('-') for item in survey_data[:,1]]\n",
    "        not_want = [item.split(',') for item in survey_data[:,2]]\n",
    "        want_group_size = [len(item) for item in want]\n",
    "\n",
    "        # print(f'\\npeople {people}')\n",
    "\n",
    "        runs = 100\n",
    "        for n in range(runs):\n",
    "            groups = top_down_pref(people, want)\n",
    "            # print(f'groups {groups}')\n",
    "\n",
    "            # group stats\n",
    "            n_groups = len(groups)\n",
    "            \n",
    "            groups_size = [len(group) for group in groups]\n",
    "\n",
    "            people_group_mat = [[people[x] in group for group in groups] for x in range(len(people))]\n",
    "            group_assigned = [people_group_mat[n].index(1) for n in range(len(people_group_mat))]\n",
    "            people_assigned =[groups[n] for n in group_assigned]\n",
    "\n",
    "            #calculate cost\n",
    "            cost_grading = grading(groups)\n",
    "            cost_wrong_group_size = wrong_group_size(group_assigned, want_group_size, groups_size)\n",
    "            cost_wanted_not_in_group = wanted_not_in_assigned(people_assigned, want)\n",
    "            cost_not_wanted_in_group = not_wanted_in_assigned(people_assigned, not_want)\n",
    "\n",
    "            cost = cost_grading + cost_wrong_group_size + cost_wanted_not_in_group + cost_not_wanted_in_group\n",
    "\n",
    "            if cost < min_cost:\n",
    "                min_cost_groups = groups\n",
    "                min_cost = cost\n",
    "    #                 print(n, min_cost_groups, min_cost)\n",
    "\n",
    "        min_cost_groups_str = ['-'.join(x) for x in min_cost_groups]\n",
    "        # print (f'min_cost_group after {runs} random samples is {min_cost_groups_str, min_cost}')\n",
    "\n",
    "        result = {\"assigned-groups\": min_cost_groups_str,\n",
    "                        \"total-cost\" : min_cost}\n",
    "\n",
    "\n",
    "    shuffles+=1\n",
    "\n",
    "\n",
    "\n",
    "    return result\n"
   ]
  },
  {
   "cell_type": "code",
   "execution_count": 125,
   "metadata": {
    "colab": {
     "base_uri": "https://localhost:8080/"
    },
    "id": "lfK12WMnqIxB",
    "outputId": "187fb2b2-147b-4738-dcea-ef8e0087f30a"
   },
   "outputs": [
    {
     "data": {
      "text/plain": [
       "{'assigned-groups': ['wu-fanjun',\n",
       "  'sun-qian-djcran',\n",
       "  'zheng-li-zhao',\n",
       "  'sulagaop-sahmaini-vkvats',\n",
       "  'zhou-nthakurd'],\n",
       " 'total-cost': 46.0}"
      ]
     },
     "execution_count": 125,
     "metadata": {},
     "output_type": "execute_result"
    }
   ],
   "source": [
    "solver('test2.txt')"
   ]
  },
  {
   "cell_type": "markdown",
   "metadata": {},
   "source": [
    "## couldn't figure out how to yield with infinite loop in a way that passes the test, so it's set to run a for loop instead.  yields once every 100 iterations"
   ]
  },
  {
   "cell_type": "code",
   "execution_count": 126,
   "metadata": {
    "id": "615AGtigxxlo",
    "tags": []
   },
   "outputs": [],
   "source": [
    "def solver_yield(filename):\n",
    "    with open(filename) as f:\n",
    "        lines = f.readlines()\n",
    "    \n",
    "    survey_text = [line.rstrip('\\n') for line in lines]\n",
    "    survey_data = np.array([entry.split() for entry in survey_text])\n",
    "\n",
    "\n",
    "    min_cost = 100000000\n",
    "    \n",
    "    shuffles = 1\n",
    "    for shuffles in range(10):\n",
    "  \n",
    "        np.random.shuffle(survey_data)\n",
    "\n",
    "        #survey inputs\n",
    "        people = survey_data[:,0]\n",
    "        want = [item.split('-') for item in survey_data[:,1]]\n",
    "        not_want = [item.split(',') for item in survey_data[:,2]]\n",
    "        want_group_size = [len(item) for item in want]\n",
    "\n",
    "        # print(f'\\npeople {people}')\n",
    "\n",
    "        runs = 100\n",
    "        for n in range(runs):\n",
    "            groups = top_down_pref(people, want)\n",
    "            # print(f'groups {groups}')\n",
    "\n",
    "            # group stats\n",
    "            n_groups = len(groups)\n",
    "\n",
    "            groups_size = [len(group) for group in groups]\n",
    "\n",
    "            people_group_mat = [[people[x] in group for group in groups] for x in range(len(people))]\n",
    "            group_assigned = [people_group_mat[n].index(1) for n in range(len(people_group_mat))]\n",
    "            people_assigned =[groups[n] for n in group_assigned]\n",
    "\n",
    "            #calculate cost\n",
    "            cost_grading = grading(groups)\n",
    "            cost_wrong_group_size = wrong_group_size(group_assigned, want_group_size, groups_size)\n",
    "            cost_wanted_not_in_group = wanted_not_in_assigned(people_assigned, want)\n",
    "            cost_not_wanted_in_group = not_wanted_in_assigned(people_assigned, not_want)\n",
    "\n",
    "            cost = cost_grading + cost_wrong_group_size + cost_wanted_not_in_group + cost_not_wanted_in_group\n",
    "\n",
    "            if cost < min_cost:\n",
    "                min_cost_groups = groups\n",
    "                min_cost = cost\n",
    "    #                 print(n, min_cost_groups, min_cost)\n",
    "\n",
    "                min_cost_groups_str = ['-'.join(x) for x in min_cost_groups]\n",
    "                # print (f'min_cost_group after {runs} random samples is {min_cost_groups_str, min_cost}')\n",
    "\n",
    "                result = {\"assigned-groups\": min_cost_groups_str,\n",
    "                        \"total-cost\" : min_cost}\n",
    "\n",
    "        yield (result)\n",
    "            \n",
    "        shuffles += 1\n",
    "\n",
    "        \n",
    "                        \n"
   ]
  },
  {
   "cell_type": "code",
   "execution_count": 128,
   "metadata": {
    "colab": {
     "base_uri": "https://localhost:8080/",
     "height": 1000
    },
    "id": "eL_QLK0Kx-0k",
    "outputId": "0d7998f4-9431-4d41-827f-554101fcd104"
   },
   "outputs": [
    {
     "name": "stdout",
     "output_type": "stream",
     "text": [
      "----- Latest solution:\n",
      "zhou-vkvats\n",
      "zhang-sun-li\n",
      "li4-zhang3-sulagaop\n",
      "chen-djcran\n",
      "zhao-qian-wang5\n",
      "zheng-wang\n",
      "fanjun-feng\n",
      "wu-sahmaini\n",
      "nthakurd\n",
      "\n",
      "Assignment cost: 85 \n",
      "\n",
      "----- Latest solution:\n",
      "zhou-vkvats\n",
      "zhang-sun-li\n",
      "li4-zhang3-sulagaop\n",
      "chen-djcran\n",
      "zhao-qian-wang5\n",
      "zheng-wang\n",
      "fanjun-feng\n",
      "wu-sahmaini\n",
      "nthakurd\n",
      "\n",
      "Assignment cost: 85 \n",
      "\n",
      "----- Latest solution:\n",
      "zhou-vkvats\n",
      "zhang-sun-li\n",
      "li4-zhang3-sulagaop\n",
      "chen-djcran\n",
      "zhao-qian-wang5\n",
      "zheng-wang\n",
      "fanjun-feng\n",
      "wu-sahmaini\n",
      "nthakurd\n",
      "\n",
      "Assignment cost: 85 \n",
      "\n",
      "----- Latest solution:\n",
      "zhou-vkvats\n",
      "zhang-sun-li\n",
      "li4-zhang3-sulagaop\n",
      "chen-djcran\n",
      "zhao-qian-wang5\n",
      "zheng-wang\n",
      "fanjun-feng\n",
      "wu-sahmaini\n",
      "nthakurd\n",
      "\n",
      "Assignment cost: 85 \n",
      "\n",
      "----- Latest solution:\n",
      "chen-zhao\n",
      "wang5-fanjun-sulagaop\n",
      "sahmaini\n",
      "wang-zheng\n",
      "li-sun-qian\n",
      "nthakurd\n",
      "zhang-zhou-feng\n",
      "djcran-vkvats\n",
      "li4-zhang3-wu\n",
      "\n",
      "Assignment cost: 74 \n",
      "\n",
      "----- Latest solution:\n",
      "chen-zhao\n",
      "wang5-fanjun-sulagaop\n",
      "sahmaini\n",
      "wang-zheng\n",
      "li-sun-qian\n",
      "nthakurd\n",
      "zhang-zhou-feng\n",
      "djcran-vkvats\n",
      "li4-zhang3-wu\n",
      "\n",
      "Assignment cost: 74 \n",
      "\n",
      "----- Latest solution:\n",
      "chen-zhao\n",
      "wang5-fanjun-sulagaop\n",
      "sahmaini\n",
      "wang-zheng\n",
      "li-sun-qian\n",
      "nthakurd\n",
      "zhang-zhou-feng\n",
      "djcran-vkvats\n",
      "li4-zhang3-wu\n",
      "\n",
      "Assignment cost: 74 \n",
      "\n",
      "----- Latest solution:\n",
      "chen-zhao\n",
      "wang5-fanjun-sulagaop\n",
      "sahmaini\n",
      "wang-zheng\n",
      "li-sun-qian\n",
      "nthakurd\n",
      "zhang-zhou-feng\n",
      "djcran-vkvats\n",
      "li4-zhang3-wu\n",
      "\n",
      "Assignment cost: 74 \n",
      "\n",
      "----- Latest solution:\n",
      "chen-zhao\n",
      "wang5-fanjun-sulagaop\n",
      "sahmaini\n",
      "wang-zheng\n",
      "li-sun-qian\n",
      "nthakurd\n",
      "zhang-zhou-feng\n",
      "djcran-vkvats\n",
      "li4-zhang3-wu\n",
      "\n",
      "Assignment cost: 74 \n",
      "\n",
      "----- Latest solution:\n",
      "chen-zhao\n",
      "wang5-fanjun-sulagaop\n",
      "sahmaini\n",
      "wang-zheng\n",
      "li-sun-qian\n",
      "nthakurd\n",
      "zhang-zhou-feng\n",
      "djcran-vkvats\n",
      "li4-zhang3-wu\n",
      "\n",
      "Assignment cost: 74 \n",
      "\n"
     ]
    }
   ],
   "source": [
    "for result in solver_yield('test3.txt'):\n",
    "    print(\"----- Latest solution:\\n\" + \"\\n\".join(result[\"assigned-groups\"]))\n",
    "    print(\"\\nAssignment cost: %d \\n\" % result[\"total-cost\"])\n",
    "    \n",
    "    "
   ]
  },
  {
   "cell_type": "code",
   "execution_count": null,
   "metadata": {
    "id": "vqNqz8giqIw_",
    "outputId": "4fa9d6ea-de9c-411a-85ca-e10251e6baa8"
   },
   "outputs": [
    {
     "data": {
      "text/plain": [
       "[array(['djcran', 'sulagaop', 'fanjun', 'nthakurd', 'vkvats', 'zhao',\n",
       "        'qian', 'sun', 'li', 'zhou', 'wu', 'zheng'], dtype='<U22'),\n",
       " array(['djcran', 'sahmaini', 'sulagaop', 'fanjun', 'nthakurd', 'vkvats',\n",
       "        'zhao', 'qian', 'sun', 'li', 'zhou', 'wu', 'zheng'], dtype='<U22'),\n",
       " array(['djcran', 'sahmaini', 'sulagaop', 'fanjun', 'nthakurd', 'vkvats',\n",
       "        'zhao', 'qian', 'sun', 'li', 'zhou', 'wu', 'zheng'], dtype='<U22'),\n",
       " array(['djcran', 'sahmaini', 'sulagaop', 'fanjun', 'vkvats', 'zhao',\n",
       "        'qian', 'sun', 'li', 'zhou', 'wu', 'zheng'], dtype='<U22'),\n",
       " array(['sahmaini', 'sulagaop', 'nthakurd', 'vkvats', 'zhao', 'qian',\n",
       "        'sun', 'li', 'zhou', 'wu', 'zheng'], dtype='<U22'),\n",
       " array(['djcran', 'sahmaini', 'sulagaop', 'fanjun', 'nthakurd', 'vkvats',\n",
       "        'zhao', 'qian', 'sun', 'li', 'zhou', 'wu', 'zheng'], dtype='<U22'),\n",
       " array(['djcran', 'sahmaini', 'sulagaop', 'fanjun', 'nthakurd', 'vkvats',\n",
       "        'zhao', 'qian', 'sun', 'li', 'zhou', 'wu', 'zheng'], dtype='<U22'),\n",
       " array(['djcran', 'sahmaini', 'sulagaop', 'fanjun', 'nthakurd', 'vkvats',\n",
       "        'qian', 'sun', 'li', 'zhou', 'wu', 'zheng'], dtype='<U22'),\n",
       " array(['djcran', 'sahmaini', 'sulagaop', 'fanjun', 'nthakurd', 'vkvats',\n",
       "        'qian', 'sun', 'li', 'zhou', 'wu', 'zheng'], dtype='<U22'),\n",
       " array(['djcran', 'sahmaini', 'sulagaop', 'fanjun', 'nthakurd', 'vkvats',\n",
       "        'zhao', 'qian', 'sun', 'li', 'zhou', 'wu', 'zheng'], dtype='<U22'),\n",
       " array(['djcran', 'sahmaini', 'sulagaop', 'fanjun', 'nthakurd', 'vkvats',\n",
       "        'qian', 'sun', 'li', 'zhou', 'wu', 'zheng'], dtype='<U22'),\n",
       " array(['djcran', 'sahmaini', 'sulagaop', 'fanjun', 'nthakurd', 'vkvats',\n",
       "        'zhao', 'qian', 'sun', 'li', 'wu', 'zheng'], dtype='<U22'),\n",
       " array(['djcran', 'sahmaini', 'sulagaop', 'fanjun', 'nthakurd', 'vkvats',\n",
       "        'zhao', 'qian', 'sun', 'li', 'zhou', 'wu', 'zheng'], dtype='<U22')]"
      ]
     },
     "execution_count": 37,
     "metadata": {},
     "output_type": "execute_result"
    }
   ],
   "source": [
    "# ok_to_assign\n",
    "ok_people = [people[np.where(np.isin(people, not_want[n])==0)] for n in range (len(people))]\n",
    "ok_people"
   ]
  },
  {
   "cell_type": "code",
   "execution_count": 97,
   "metadata": {
    "id": "964a32fe-b357-4524-891f-57e568fd7e34",
    "tags": []
   },
   "outputs": [],
   "source": [
    "def solver(input_file):\n",
    "    \"\"\"\n",
    "    1. This function should take the name of a .txt input file in the format indicated in the assignment.\n",
    "    2. It should return a dictionary with the following keys:\n",
    "        - \"assigned-groups\" : a list of groups assigned by the program, each consisting of usernames separated by hyphens\n",
    "        - \"total-cost\" : total cost (time spent by instructors in minutes) in the group assignment\n",
    "    3. Do not add any extra parameters to the solver() function, or it will break our grading and testing code.\n",
    "    4. Please do not use any global variables, as it may cause the testing code to fail.\n",
    "    5. To handle the fact that some problems may take longer than others, and you don't know ahead of time how\n",
    "       much time it will take to find the best solution, you can compute a series of solutions and then\n",
    "       call \"yield\" to return that preliminary solution. Your program can continue yielding multiple times;\n",
    "       our test program will take the last answer you 'yielded' once time expired.\n",
    "    \"\"\"\n",
    "\n",
    "    # Simple example. First we yield a quick solution\n",
    "    yield({\"assigned-groups\": [\"vibvats-djcran-zkachwal\", \"shah12\", \"vrmath\"],\n",
    "               \"total-cost\" : 12})\n",
    "\n",
    "    # Then we think a while and return another solution:\n",
    "    time.sleep(10)\n",
    "    yield({\"assigned-groups\": [\"vibvats-djcran-zkachwal\", \"shah12-vrmath\"],\n",
    "               \"total-cost\" : 10})\n",
    "\n",
    "    # This solution will never befound, but that's ok; program will be killed eventually by the\n",
    "    #  test script.\n",
    "    while True:\n",
    "        pass\n",
    "    \n",
    "    yield({\"assigned-groups\": [\"vibvats-djcran\", \"zkachwal-shah12-vrmath\"],\n",
    "               \"total-cost\" : 9})"
   ]
  },
  {
   "cell_type": "code",
   "execution_count": 115,
   "metadata": {
    "id": "K7jF5dVQqIxC"
   },
   "outputs": [],
   "source": [
    "def solver (input_file):\n",
    "    # Simple example. First we yield a quick solution\n",
    "    \n",
    "    cost = 1\n",
    "    group = 'group'\n",
    "    yield({\"assigned-groups\": [\"vibvats-djcran-zkachwal\", \"shah12\", \"vrmath\"],\n",
    "           \"total-cost\" : cost})\n",
    "    \n",
    "    while cost > 0:\n",
    "        cost +=1\n",
    "    \n",
    "    while True:\n",
    "        time.sleep(5)\n",
    "        yield({\"assigned-groups\": [\"vibvats-djcran-zkachwal\", \"shah12\", \"vrmath\"],\n",
    "               \"total-cost\" : cost})\n",
    "\n",
    "    \n",
    "    "
   ]
  },
  {
   "cell_type": "code",
   "execution_count": 116,
   "metadata": {
    "id": "6f100cb5-a4a6-40ba-918c-9067c7289e77",
    "outputId": "a279acd8-6ce6-4d27-99c6-1dc9127ee9e6"
   },
   "outputs": [
    {
     "name": "stdout",
     "output_type": "stream",
     "text": [
      "----- Latest solution:\n",
      "vibvats-djcran-zkachwal\n",
      "shah12\n",
      "vrmath\n",
      "\n",
      "Assignment cost: 1 \n",
      "\n",
      "----- Latest solution:\n",
      "vibvats-djcran-zkachwal\n",
      "shah12\n",
      "vrmath\n",
      "\n",
      "Assignment cost: 2 \n",
      "\n",
      "----- Latest solution:\n",
      "vibvats-djcran-zkachwal\n",
      "shah12\n",
      "vrmath\n",
      "\n",
      "Assignment cost: 2 \n",
      "\n",
      "----- Latest solution:\n",
      "vibvats-djcran-zkachwal\n",
      "shah12\n",
      "vrmath\n",
      "\n",
      "Assignment cost: 2 \n",
      "\n",
      "----- Latest solution:\n",
      "vibvats-djcran-zkachwal\n",
      "shah12\n",
      "vrmath\n",
      "\n",
      "Assignment cost: 2 \n",
      "\n"
     ]
    },
    {
     "ename": "KeyboardInterrupt",
     "evalue": "",
     "output_type": "error",
     "traceback": [
      "\u001b[0;31m---------------------------------------------------------------------------\u001b[0m",
      "\u001b[0;31mKeyboardInterrupt\u001b[0m                         Traceback (most recent call last)",
      "\u001b[0;32m<ipython-input-116-add9f9d373fd>\u001b[0m in \u001b[0;36m<module>\u001b[0;34m\u001b[0m\n\u001b[1;32m      3\u001b[0m         \u001b[0;32mraise\u001b[0m\u001b[0;34m(\u001b[0m\u001b[0mException\u001b[0m\u001b[0;34m(\u001b[0m\u001b[0;34m\"Error: expected an input filename\"\u001b[0m\u001b[0;34m)\u001b[0m\u001b[0;34m)\u001b[0m\u001b[0;34m\u001b[0m\u001b[0;34m\u001b[0m\u001b[0m\n\u001b[1;32m      4\u001b[0m \u001b[0;34m\u001b[0m\u001b[0m\n\u001b[0;32m----> 5\u001b[0;31m     \u001b[0;32mfor\u001b[0m \u001b[0mresult\u001b[0m \u001b[0;32min\u001b[0m \u001b[0msolver\u001b[0m\u001b[0;34m(\u001b[0m\u001b[0;34m'test1.txt'\u001b[0m\u001b[0;34m)\u001b[0m\u001b[0;34m:\u001b[0m\u001b[0;34m\u001b[0m\u001b[0;34m\u001b[0m\u001b[0m\n\u001b[0m\u001b[1;32m      6\u001b[0m         \u001b[0mprint\u001b[0m\u001b[0;34m(\u001b[0m\u001b[0;34m\"----- Latest solution:\\n\"\u001b[0m \u001b[0;34m+\u001b[0m \u001b[0;34m\"\\n\"\u001b[0m\u001b[0;34m.\u001b[0m\u001b[0mjoin\u001b[0m\u001b[0;34m(\u001b[0m\u001b[0mresult\u001b[0m\u001b[0;34m[\u001b[0m\u001b[0;34m\"assigned-groups\"\u001b[0m\u001b[0;34m]\u001b[0m\u001b[0;34m)\u001b[0m\u001b[0;34m)\u001b[0m\u001b[0;34m\u001b[0m\u001b[0;34m\u001b[0m\u001b[0m\n\u001b[1;32m      7\u001b[0m         \u001b[0mprint\u001b[0m\u001b[0;34m(\u001b[0m\u001b[0;34m\"\\nAssignment cost: %d \\n\"\u001b[0m \u001b[0;34m%\u001b[0m \u001b[0mresult\u001b[0m\u001b[0;34m[\u001b[0m\u001b[0;34m\"total-cost\"\u001b[0m\u001b[0;34m]\u001b[0m\u001b[0;34m)\u001b[0m\u001b[0;34m\u001b[0m\u001b[0;34m\u001b[0m\u001b[0m\n",
      "\u001b[0;32m<ipython-input-115-101dabe9084c>\u001b[0m in \u001b[0;36msolver\u001b[0;34m(input_file)\u001b[0m\n\u001b[1;32m     10\u001b[0m         \u001b[0mcost\u001b[0m \u001b[0;34m+=\u001b[0m\u001b[0;36m1\u001b[0m\u001b[0;34m\u001b[0m\u001b[0;34m\u001b[0m\u001b[0m\n\u001b[1;32m     11\u001b[0m         \u001b[0;32mwhile\u001b[0m \u001b[0;32mTrue\u001b[0m\u001b[0;34m:\u001b[0m\u001b[0;34m\u001b[0m\u001b[0;34m\u001b[0m\u001b[0m\n\u001b[0;32m---> 12\u001b[0;31m             \u001b[0mtime\u001b[0m\u001b[0;34m.\u001b[0m\u001b[0msleep\u001b[0m\u001b[0;34m(\u001b[0m\u001b[0;36m5\u001b[0m\u001b[0;34m)\u001b[0m\u001b[0;34m\u001b[0m\u001b[0;34m\u001b[0m\u001b[0m\n\u001b[0m\u001b[1;32m     13\u001b[0m             yield({\"assigned-groups\": [\"vibvats-djcran-zkachwal\", \"shah12\", \"vrmath\"],\n\u001b[1;32m     14\u001b[0m                \"total-cost\" : cost})\n",
      "\u001b[0;31mKeyboardInterrupt\u001b[0m: "
     ]
    }
   ],
   "source": [
    "if __name__ == \"__main__\":\n",
    "    if(len('XX') != 2):\n",
    "        raise(Exception(\"Error: expected an input filename\"))\n",
    "\n",
    "    for result in solver('test1.txt'):\n",
    "        print(\"----- Latest solution:\\n\" + \"\\n\".join(result[\"assigned-groups\"]))\n",
    "        print(\"\\nAssignment cost: %d \\n\" % result[\"total-cost\"])\n",
    "    "
   ]
  },
  {
   "cell_type": "code",
   "execution_count": null,
   "metadata": {
    "id": "633ba591-c7bb-4846-96cd-b2363ea481cd"
   },
   "outputs": [],
   "source": []
  }
 ],
 "metadata": {
  "colab": {
   "name": "assign_zayatz.ipynb",
   "provenance": []
  },
  "kernelspec": {
   "display_name": "Python 3",
   "language": "python",
   "name": "python3"
  },
  "language_info": {
   "codemirror_mode": {
    "name": "ipython",
    "version": 3
   },
   "file_extension": ".py",
   "mimetype": "text/x-python",
   "name": "python",
   "nbconvert_exporter": "python",
   "pygments_lexer": "ipython3",
   "version": "3.8.5"
  }
 },
 "nbformat": 4,
 "nbformat_minor": 5
}
