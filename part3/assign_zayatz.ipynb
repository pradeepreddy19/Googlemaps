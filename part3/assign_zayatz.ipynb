{
 "cells": [
  {
   "cell_type": "code",
   "execution_count": 1,
   "metadata": {
    "id": "3d73e4ef-12d1-4858-a36e-a83c5ca1c785"
   },
   "outputs": [],
   "source": [
    "#!/usr/local/bin/python3\n",
    "# assign.py : Assign people to teams\n",
    "#\n",
    "# Code by: name IU ID\n",
    "#\n",
    "# Based on skeleton code by D. Crandall and B551 Staff, September 2021\n",
    "#"
   ]
  },
  {
   "cell_type": "code",
   "execution_count": 2,
   "metadata": {
    "id": "23fbf969-0a86-4800-be97-a8ad7a176dc2"
   },
   "outputs": [],
   "source": [
    "import sys\n",
    "import time\n",
    "import numpy as np"
   ]
  },
  {
   "cell_type": "markdown",
   "metadata": {
    "id": "a010f65d-e259-47dd-9031-03a200a58290"
   },
   "source": [
    "# Cost function"
   ]
  },
  {
   "cell_type": "code",
   "execution_count": 3,
   "metadata": {
    "id": "12c0ebd7-1e51-4dc6-a6e2-43ac9c8d25c0"
   },
   "outputs": [],
   "source": [
    "def grading(groups):\n",
    "    n_groups = len(groups)\n",
    "    \n",
    "    return n_groups*5"
   ]
  },
  {
   "cell_type": "code",
   "execution_count": 4,
   "metadata": {
    "id": "e1e119d4-7718-4bad-a1c0-4cee398cac3d",
    "tags": []
   },
   "outputs": [],
   "source": [
    "def wrong_group_size(group_assigned, want_group_size, groups_size):\n",
    "\n",
    "    assigned_group_size=[groups_size[group] for group in group_assigned]\n",
    "    group_size_compare = [assigned_group_size[n]==want_group_size[n] for n in range(len(group_assigned))]\n",
    "    n_wrong_groups = len(people) - np.count_nonzero(group_size_compare)\n",
    "    \n",
    "    return n_wrong_groups*2\n"
   ]
  },
  {
   "cell_type": "code",
   "execution_count": 5,
   "metadata": {
    "id": "9470959a-5efe-49c8-be04-40d51d3cbdf7"
   },
   "outputs": [],
   "source": [
    "def wanted_not_in_assigned(people_assigned, want):\n",
    "\n",
    "    people_assigned_mask = people_assigned.copy()\n",
    "    for n, row in enumerate(want):\n",
    "        for m, item in enumerate(row):\n",
    "            if item == 'xxx':\n",
    "                people_assigned_mask[n] = people_assigned_mask[n]+['xxx']\n",
    "\n",
    "    match_wanted_assigned = [[want[i][n] in people_assigned_mask[i] for n in range(len(want[i]))] for i in range(len(people_assigned))]\n",
    "    match_wanted_assigned = [elem for row in match_wanted_assigned for elem in row]\n",
    "    \n",
    "    wanted_not_assigned = len(match_wanted_assigned)- np.count_nonzero(match_wanted_assigned)\n",
    "    \n",
    "    return wanted_not_assigned *(0.05*60)"
   ]
  },
  {
   "cell_type": "code",
   "execution_count": 6,
   "metadata": {
    "id": "c0bea72e-d793-46d0-9490-711897e7e79b"
   },
   "outputs": [],
   "source": [
    "def not_wanted_in_assigned(people_assigned, not_want):    \n",
    "    match_not_want_assigned = [[not_want[i][n] in people_assigned[i] for n in range(len(not_want[i]))] for i in range(len(people_assigned))]\n",
    "    match_not_want_assigned = [elem for row in match_not_want_assigned for elem in row]\n",
    "    not_want_assigned = np.count_nonzero(match_not_want_assigned)\n",
    "\n",
    "    return not_want_assigned*10"
   ]
  },
  {
   "cell_type": "markdown",
   "metadata": {
    "id": "b1287fe2-a628-4d80-ba45-542d6ba998ce"
   },
   "source": [
    "# Check if the cost functions work on the example given in the instructions"
   ]
  },
  {
   "cell_type": "code",
   "execution_count": 24,
   "metadata": {
    "id": "34e907d1-82fa-432b-8891-d267a9ebeac3",
    "outputId": "3fe779d8-522f-4da4-e4f0-d10303f45207"
   },
   "outputs": [
    {
     "data": {
      "text/plain": [
       "array([['djcran', 'djcran-vkvats-nthakurd', 'sahmaini'],\n",
       "       ['sahmaini', 'sahmaini', '_'],\n",
       "       ['sulagaop', 'sulagaop-xxx-xxx', '_'],\n",
       "       ['fanjun', 'fanjun-xxx', 'nthakurd'],\n",
       "       ['nthakurd', 'nthakurd', 'djcran,fanjun'],\n",
       "       ['vkvats', 'vkvats-sahmaini', '_']], dtype='<U22')"
      ]
     },
     "execution_count": 24,
     "metadata": {},
     "output_type": "execute_result"
    }
   ],
   "source": [
    "filename = 'test1.txt'\n",
    "\n",
    "with open(filename) as f:\n",
    "    lines = f.readlines()\n",
    "\n",
    "survey_text = [line.rstrip('\\n') for line in lines]\n",
    "survey_data = np.array([entry.split() for entry in survey_text])\n",
    "survey_data"
   ]
  },
  {
   "cell_type": "code",
   "execution_count": 25,
   "metadata": {
    "id": "fad5e294-eacf-47a9-81f4-d075457d1cd9",
    "outputId": "dea79636-e2f1-45fc-9053-8753fef1ef07"
   },
   "outputs": [
    {
     "name": "stdout",
     "output_type": "stream",
     "text": [
      "people ['djcran' 'sahmaini' 'sulagaop' 'fanjun' 'nthakurd' 'vkvats']\n",
      "want [['djcran', 'vkvats', 'nthakurd'], ['sahmaini'], ['sulagaop', 'xxx', 'xxx'], ['fanjun', 'xxx'], ['nthakurd'], ['vkvats', 'sahmaini']]\n",
      "not_want [['sahmaini'], ['_'], ['_'], ['nthakurd'], ['djcran', 'fanjun'], ['_']]\n",
      "want_group_size [3, 1, 3, 2, 1, 2]\n"
     ]
    }
   ],
   "source": [
    "#survey inputs\n",
    "people = survey_data[:,0]\n",
    "want = [item.split('-') for item in survey_data[:,1]]\n",
    "not_want = [item.split(',') for item in survey_data[:,2]]\n",
    "want_group_size = [len(item) for item in want]\n",
    "\n",
    "print(f'people {people}')\n",
    "print (f'want {want}')\n",
    "print (f'not_want {not_want}')\n",
    "print (f'want_group_size {want_group_size}')"
   ]
  },
  {
   "cell_type": "code",
   "execution_count": 32,
   "metadata": {
    "id": "725ff333-0774-4bf7-a4c6-02eb492f0611",
    "outputId": "0c74845e-3e2b-4ccf-d65f-7719c6e1073e"
   },
   "outputs": [
    {
     "name": "stdout",
     "output_type": "stream",
     "text": [
      "groups from example [['djcran', 'vkvats', 'nthakurd'], ['sahmaini'], ['sulagaop', 'fanjun']]\n"
     ]
    }
   ],
   "source": [
    "# assign a group\n",
    "#group example from assignment instructions\n",
    "groups = [['djcran','vkvats','nthakurd'], [\"sahmaini\"], [\"sulagaop\", 'fanjun']]\n",
    "print(f'groups from example {groups}')\n"
   ]
  },
  {
   "cell_type": "code",
   "execution_count": 33,
   "metadata": {
    "id": "d67f6dbb-90ca-43be-b396-ab8b45edf6b7",
    "outputId": "20e37080-de6f-4fe3-dc42-92e724ad15a9"
   },
   "outputs": [
    {
     "name": "stdout",
     "output_type": "stream",
     "text": [
      "n_groups 3\n",
      "groups_size [3, 1, 2]\n",
      "group_assigned [0, 1, 2, 2, 0, 0]\n",
      "people_assigned [['djcran', 'vkvats', 'nthakurd'], ['sahmaini'], ['sulagaop', 'fanjun'], ['sulagaop', 'fanjun'], ['djcran', 'vkvats', 'nthakurd'], ['djcran', 'vkvats', 'nthakurd']]\n"
     ]
    }
   ],
   "source": [
    "# group stats\n",
    "n_groups = len(groups)\n",
    "groups_size = [len(group) for group in groups]\n",
    "\n",
    "people_group_mat = [[people[x] in group for group in groups] for x in range(len(people))]\n",
    "group_assigned = [people_group_mat[n].index(1) for n in range(len(people_group_mat))]\n",
    "\n",
    "people_assigned =[groups[n] for n in group_assigned]\n",
    "\n",
    "print (f'n_groups {n_groups}')\n",
    "print(f'groups_size {groups_size}')\n",
    "print (f'group_assigned {group_assigned}')\n",
    "print (f'people_assigned {people_assigned}')"
   ]
  },
  {
   "cell_type": "code",
   "execution_count": 34,
   "metadata": {
    "id": "4c2e4a41-5f17-434d-9a3a-a93f165a0c14",
    "outputId": "f892a620-4717-48d6-f30e-fb5c5d691f43"
   },
   "outputs": [
    {
     "name": "stdout",
     "output_type": "stream",
     "text": [
      "grading 15\n",
      "cost_wrong_group_size 6\n",
      "cost_wanted_not_in_group 3.0\n",
      "cost_not_wanted_in_group 10\n",
      "cost 34.0\n"
     ]
    }
   ],
   "source": [
    "#calculate cost\n",
    "cost_grading = grading(groups)\n",
    "print(f'grading {cost_grading}')\n",
    "\n",
    "cost_wrong_group_size = wrong_group_size(group_assigned, want_group_size, groups_size)\n",
    "print(f'cost_wrong_group_size {cost_wrong_group_size}')\n",
    "\n",
    "cost_wanted_not_in_group = wanted_not_in_assigned(people_assigned, want)\n",
    "print(f'cost_wanted_not_in_group {cost_wanted_not_in_group}')\n",
    "\n",
    "cost_not_wanted_in_group = not_wanted_in_assigned(people_assigned, not_want)\n",
    "print(f'cost_not_wanted_in_group {cost_not_wanted_in_group}')\n",
    "\n",
    "cost = cost_grading + cost_wrong_group_size + cost_wanted_not_in_group + cost_not_wanted_in_group\n",
    "print (f'cost {cost}')"
   ]
  },
  {
   "cell_type": "markdown",
   "metadata": {
    "id": "364f83b0-62b0-4da9-9cd9-f795743fe78a"
   },
   "source": [
    "# Random search - fixed number of iterations\n"
   ]
  },
  {
   "cell_type": "code",
   "execution_count": 35,
   "metadata": {
    "id": "68f8b018-d090-46ef-9614-feab0866b34d"
   },
   "outputs": [],
   "source": [
    "def assign_random_groups(people):\n",
    "\n",
    "    if len(people)% 3 ==0:\n",
    "        poss_n_groups = int(len(people)/3)\n",
    "    else:\n",
    "        poss_n_groups = int(np.floor(len(people)/3))+1\n",
    "\n",
    "    rand_groups = np.array([np.random.randint(0,poss_n_groups+1) for x in range(len(people))])\n",
    "\n",
    "    n_in_group =[np.count_nonzero(rand_groups == n) for n in range(poss_n_groups+1)]\n",
    "\n",
    "    while max(n_in_group)>3:\n",
    "        rand_groups = np.array([np.random.randint(0,poss_n_groups) for x in range(len(people))])\n",
    "        n_in_group =[np.count_nonzero(rand_groups == n) for n in range(poss_n_groups+1)]\n",
    "\n",
    "    assigned_groups = []\n",
    "    [assigned_groups.append(list(people[np.where(rand_groups ==n)])) for n in range(poss_n_groups+1)]\n",
    "\n",
    "    groups = assigned_groups\n",
    "\n",
    "    try:\n",
    "        groups.pop([groups[n]==[]for n in range(len(groups))].index(1))\n",
    "    except:\n",
    "        pass\n",
    "\n",
    "#     print(f'groups {groups}')\n",
    "    \n",
    "    return groups"
   ]
  },
  {
   "cell_type": "code",
   "execution_count": 68,
   "metadata": {
    "id": "aaa152c7-d0ff-4a5e-9921-5e5727ae634a",
    "outputId": "2a98e69a-5c38-45ef-b452-1149da949ba1",
    "tags": []
   },
   "outputs": [],
   "source": [
    "def solver(filename):\n",
    "    \n",
    "#     filename ='test1.txt'    \n",
    "\n",
    "    with open(filename) as f:\n",
    "        lines = f.readlines()\n",
    "\n",
    "    survey_text = [line.rstrip('\\n') for line in lines]\n",
    "    survey_data = np.array([entry.split() for entry in survey_text])\n",
    "\n",
    "    #survey inputs\n",
    "    people = survey_data[:,0]\n",
    "    want = [item.split('-') for item in survey_data[:,1]]\n",
    "    not_want = [item.split(',') for item in survey_data[:,2]]\n",
    "    want_group_size = [len(item) for item in want]\n",
    "\n",
    "\n",
    "\n",
    "    min_cost = 100000000\n",
    "    n = 1\n",
    "    runs = 10000\n",
    "    for n in range(runs):\n",
    "        #randomly generated group\n",
    "        rand_groups = assign_random_groups(people)\n",
    "        groups = rand_groups\n",
    "#         group example from assignment instructions\n",
    "#         groups = [['djcran','vkvats','nthakurd'], [\"sahmaini\"], [\"sulagaop\", 'fanjun']]\n",
    "#         print(f'groups from example {groups}')\n",
    "\n",
    "        # group stats\n",
    "        n_groups = len(groups)\n",
    "        groups_size = [len(group) for group in groups]\n",
    "\n",
    "        people_group_mat = [[people[x] in group for group in groups] for x in range(len(people))]\n",
    "        group_assigned = [people_group_mat[n].index(1) for n in range(len(people_group_mat))]\n",
    "\n",
    "        people_assigned =[groups[n] for n in group_assigned]\n",
    "\n",
    "\n",
    "        #calculate cost\n",
    "        cost_grading = grading(groups)\n",
    "        cost_wrong_group_size = wrong_group_size(group_assigned, want_group_size, groups_size)\n",
    "        cost_wanted_not_in_group = wanted_not_in_assigned(people_assigned, want)\n",
    "        cost_not_wanted_in_group = not_wanted_in_assigned(people_assigned, not_want)\n",
    "\n",
    "        cost = cost_grading + cost_wrong_group_size + cost_wanted_not_in_group + cost_not_wanted_in_group\n",
    "\n",
    "\n",
    "        if cost < min_cost:\n",
    "            min_cost_groups = groups\n",
    "            min_cost = cost\n",
    "            print(n, min_cost_groups, min_cost)\n",
    "        \n",
    "        n+=1\n",
    "        \n",
    "    min_cost_groups_str = ['-'.join(x) for x in min_cost_groups]\n",
    "    print (f'\\nmin_cost_group after {runs} random samples is {min_cost_groups_str, min_cost}')\n",
    "\n",
    "    result = {\"assigned-groups\": min_cost_groups_str,\n",
    "              \"total-cost\" : min_cost}\n",
    "\n",
    "    \n",
    "\n",
    "    \n",
    "    \n",
    "    return result\n"
   ]
  },
  {
   "cell_type": "code",
   "execution_count": 69,
   "metadata": {},
   "outputs": [
    {
     "name": "stdout",
     "output_type": "stream",
     "text": [
      "0 [['nthakurd', 'wang5', 'zhang'], ['sahmaini', 'sulagaop', 'wu'], ['sun', 'li', 'zheng'], ['djcran', 'wang', 'feng'], ['vkvats', 'li4'], ['fanjun', 'qian', 'chen'], ['zhao', 'zhou', 'zhang3']] 116.0\n",
      "2 [['zhao', 'li4', 'zhang'], ['sahmaini', 'zhang3'], ['fanjun', 'sun', 'zhou'], ['qian', 'wu', 'chen'], ['sulagaop', 'nthakurd', 'feng'], ['djcran', 'wang', 'wang5'], ['vkvats', 'li', 'zheng']] 111.0\n",
      "4 [['qian', 'wu'], ['sahmaini', 'fanjun', 'zhao'], ['djcran', 'sulagaop', 'wang5'], ['vkvats', 'zhou', 'zhang'], ['sun', 'li', 'feng'], ['zheng', 'wang', 'zhang3'], ['nthakurd', 'chen', 'li4']] 106.0\n",
      "40 [['sulagaop', 'vkvats', 'zhao'], ['nthakurd', 'sun', 'feng'], ['li', 'zhou'], ['djcran', 'fanjun', 'wang5'], ['qian', 'chen', 'zhang'], ['wu', 'zhang3', 'li4'], ['sahmaini', 'zheng', 'wang']] 103.0\n",
      "46 [['sahmaini', 'fanjun', 'zhang3'], ['nthakurd', 'wang', 'li4'], ['qian', 'zhou', 'zheng'], ['sulagaop', 'zhao', 'feng'], ['sun', 'li', 'wang5'], ['djcran', 'wu', 'zhang'], ['vkvats', 'chen']] 102.0\n",
      "174 [['zheng', 'wang', 'chen'], ['sulagaop', 'qian', 'zhou'], ['fanjun', 'li4'], ['nthakurd', 'sun', 'li'], ['zhao', 'feng', 'zhang3'], ['djcran', 'vkvats', 'zhang'], ['sahmaini', 'wu', 'wang5']] 100.0\n",
      "662 [['sulagaop', 'fanjun', 'wang5'], ['zhao', 'li', 'zheng'], ['qian', 'sun', 'zhang'], ['sahmaini', 'vkvats', 'feng'], ['wu', 'zhang3', 'li4'], ['nthakurd', 'zhou', 'wang'], ['djcran', 'chen']] 97.0\n",
      "858 [['fanjun', 'zhou'], ['djcran', 'sulagaop', 'zheng'], ['sahmaini', 'vkvats', 'chen'], ['wu', 'li4', 'zhang'], ['nthakurd', 'wang', 'feng'], ['qian', 'sun', 'li'], ['zhao', 'zhang3', 'wang5']] 96.0\n",
      "2340 [['djcran', 'chen', 'zhang3'], ['wu', 'zheng', 'wang'], ['sahmaini', 'nthakurd', 'zhou'], ['fanjun', 'vkvats'], ['sulagaop', 'li4', 'zhang'], ['zhao', 'feng', 'wang5'], ['qian', 'sun', 'li']] 93.0\n",
      "\n",
      "min_cost_group after 10000 random samples is (['djcran-chen-zhang3', 'wu-zheng-wang', 'sahmaini-nthakurd-zhou', 'fanjun-vkvats', 'sulagaop-li4-zhang', 'zhao-feng-wang5', 'qian-sun-li'], 93.0)\n"
     ]
    },
    {
     "data": {
      "text/plain": [
       "{'assigned-groups': ['djcran-chen-zhang3',\n",
       "  'wu-zheng-wang',\n",
       "  'sahmaini-nthakurd-zhou',\n",
       "  'fanjun-vkvats',\n",
       "  'sulagaop-li4-zhang',\n",
       "  'zhao-feng-wang5',\n",
       "  'qian-sun-li'],\n",
       " 'total-cost': 93.0}"
      ]
     },
     "execution_count": 69,
     "metadata": {},
     "output_type": "execute_result"
    }
   ],
   "source": [
    "solver('test3.txt')"
   ]
  },
  {
   "cell_type": "markdown",
   "metadata": {},
   "source": [
    "# Random Search - Yield when a lower cost is found"
   ]
  },
  {
   "cell_type": "code",
   "execution_count": 67,
   "metadata": {
    "id": "aaa152c7-d0ff-4a5e-9921-5e5727ae634a",
    "outputId": "2a98e69a-5c38-45ef-b452-1149da949ba1",
    "tags": []
   },
   "outputs": [],
   "source": [
    "def solver_yield(filename):\n",
    "    \n",
    "#     filename ='test1.txt'    \n",
    "\n",
    "    with open(filename) as f:\n",
    "        lines = f.readlines()\n",
    "\n",
    "    survey_text = [line.rstrip('\\n') for line in lines]\n",
    "    survey_data = np.array([entry.split() for entry in survey_text])\n",
    "\n",
    "    #survey inputs\n",
    "    people = survey_data[:,0]\n",
    "    want = [item.split('-') for item in survey_data[:,1]]\n",
    "    not_want = [item.split(',') for item in survey_data[:,2]]\n",
    "    want_group_size = [len(item) for item in want]\n",
    "\n",
    "\n",
    "\n",
    "    min_cost = 100000000\n",
    "    while min_cost>0:\n",
    "        #randomly generated group\n",
    "        rand_groups = assign_random_groups(people)\n",
    "        groups = rand_groups\n",
    "#         group example from assignment instructions\n",
    "#         groups = [['djcran','vkvats','nthakurd'], [\"sahmaini\"], [\"sulagaop\", 'fanjun']]\n",
    "#         print(f'groups from example {groups}')\n",
    "\n",
    "        # group stats\n",
    "        n_groups = len(groups)\n",
    "        groups_size = [len(group) for group in groups]\n",
    "\n",
    "        people_group_mat = [[people[x] in group for group in groups] for x in range(len(people))]\n",
    "        group_assigned = [people_group_mat[n].index(1) for n in range(len(people_group_mat))]\n",
    "\n",
    "        people_assigned =[groups[n] for n in group_assigned]\n",
    "\n",
    "\n",
    "        #calculate cost\n",
    "        cost_grading = grading(groups)\n",
    "        cost_wrong_group_size = wrong_group_size(group_assigned, want_group_size, groups_size)\n",
    "        cost_wanted_not_in_group = wanted_not_in_assigned(people_assigned, want)\n",
    "        cost_not_wanted_in_group = not_wanted_in_assigned(people_assigned, not_want)\n",
    "\n",
    "        cost = cost_grading + cost_wrong_group_size + cost_wanted_not_in_group + cost_not_wanted_in_group\n",
    "\n",
    "\n",
    "        if cost < min_cost:\n",
    "            min_cost_groups = groups\n",
    "            min_cost = cost\n",
    "        \n",
    "        \n",
    "            min_cost_groups_str = ['-'.join(x) for x in min_cost_groups]\n",
    "\n",
    "            result = {\"assigned-groups\": min_cost_groups_str,\n",
    "                      \"total-cost\" : min_cost}\n",
    "\n",
    "    \n",
    "\n",
    "    \n",
    "    \n",
    "            yield (result)\n",
    "        \n",
    "\n"
   ]
  },
  {
   "cell_type": "code",
   "execution_count": 66,
   "metadata": {
    "id": "7ea61ef2-85f4-467b-84d3-8da9c9b38266",
    "outputId": "89e876b6-8579-44f5-9ec0-08cb79f1ff77"
   },
   "outputs": [
    {
     "name": "stdout",
     "output_type": "stream",
     "text": [
      "----- Latest solution:\n",
      "sulagaop-qian-wu\n",
      "li-zhou-chen\n",
      "zheng-feng\n",
      "sahmaini-nthakurd-wang5\n",
      "fanjun-li4-zhang\n",
      "djcran-zhao-zhang3\n",
      "vkvats-sun-wang\n",
      "\n",
      "Assignment cost: 112 \n",
      "\n",
      "----- Latest solution:\n",
      "djcran-qian-zhou\n",
      "vkvats-zhao-zheng\n",
      "sulagaop-chen-wang5\n",
      "li-feng-zhang\n",
      "sahmaini-wang-zhang3\n",
      "fanjun-sun-li4\n",
      "nthakurd-wu\n",
      "\n",
      "Assignment cost: 110 \n",
      "\n",
      "----- Latest solution:\n",
      "djcran-wang-zhang\n",
      "chen-wang5\n",
      "fanjun-vkvats-zhou\n",
      "sun-li-feng\n",
      "zhao-wu-zhang3\n",
      "sahmaini-sulagaop-li4\n",
      "nthakurd-qian-zheng\n",
      "\n",
      "Assignment cost: 109 \n",
      "\n",
      "----- Latest solution:\n",
      "zhang3-wang5\n",
      "qian-sun-li\n",
      "djcran-wu-li4\n",
      "sulagaop-wang-chen\n",
      "fanjun-zhao-zheng\n",
      "sahmaini-nthakurd-zhang\n",
      "vkvats-zhou-feng\n",
      "\n",
      "Assignment cost: 107 \n",
      "\n",
      "----- Latest solution:\n",
      "fanjun-zhang3-zhang\n",
      "sulagaop-nthakurd-li4\n",
      "djcran-vkvats-qian\n",
      "zhao-feng-chen\n",
      "li-zhou-zheng\n",
      "sahmaini-sun-wang\n",
      "wu-wang5\n",
      "\n",
      "Assignment cost: 103 \n",
      "\n",
      "----- Latest solution:\n",
      "fanjun-zhou\n",
      "vkvats-sun-li\n",
      "sulagaop-zhao-wang5\n",
      "nthakurd-zhang3-li4\n",
      "sahmaini-qian-zhang\n",
      "zheng-feng-chen\n",
      "djcran-wu-wang\n",
      "\n",
      "Assignment cost: 102 \n",
      "\n",
      "----- Latest solution:\n",
      "sulagaop-zhou-feng\n",
      "zhao-wu\n",
      "sahmaini-vkvats-zhang3\n",
      "fanjun-zheng-wang5\n",
      "qian-sun-li\n",
      "nthakurd-li4-zhang\n",
      "djcran-wang-chen\n",
      "\n",
      "Assignment cost: 97 \n",
      "\n",
      "----- Latest solution:\n",
      "sun-li-wu\n",
      "sahmaini-sulagaop-vkvats\n",
      "zhao-zheng-feng\n",
      "fanjun-wang5-zhang\n",
      "djcran-qian-wang\n",
      "zhou-chen\n",
      "nthakurd-zhang3-li4\n",
      "\n",
      "Assignment cost: 93 \n",
      "\n"
     ]
    },
    {
     "ename": "KeyboardInterrupt",
     "evalue": "",
     "output_type": "error",
     "traceback": [
      "\u001b[0;31m---------------------------------------------------------------------------\u001b[0m",
      "\u001b[0;31mKeyboardInterrupt\u001b[0m                         Traceback (most recent call last)",
      "\u001b[0;32m<ipython-input-66-7d171599eba2>\u001b[0m in \u001b[0;36m<module>\u001b[0;34m\u001b[0m\n\u001b[0;32m----> 1\u001b[0;31m \u001b[0;32mfor\u001b[0m \u001b[0mresult\u001b[0m \u001b[0;32min\u001b[0m \u001b[0msolver_yield\u001b[0m\u001b[0;34m(\u001b[0m\u001b[0;34m'test3.txt'\u001b[0m\u001b[0;34m)\u001b[0m\u001b[0;34m:\u001b[0m\u001b[0;34m\u001b[0m\u001b[0;34m\u001b[0m\u001b[0m\n\u001b[0m\u001b[1;32m      2\u001b[0m     \u001b[0mprint\u001b[0m\u001b[0;34m(\u001b[0m\u001b[0;34m\"----- Latest solution:\\n\"\u001b[0m \u001b[0;34m+\u001b[0m \u001b[0;34m\"\\n\"\u001b[0m\u001b[0;34m.\u001b[0m\u001b[0mjoin\u001b[0m\u001b[0;34m(\u001b[0m\u001b[0mresult\u001b[0m\u001b[0;34m[\u001b[0m\u001b[0;34m\"assigned-groups\"\u001b[0m\u001b[0;34m]\u001b[0m\u001b[0;34m)\u001b[0m\u001b[0;34m)\u001b[0m\u001b[0;34m\u001b[0m\u001b[0;34m\u001b[0m\u001b[0m\n\u001b[1;32m      3\u001b[0m     \u001b[0mprint\u001b[0m\u001b[0;34m(\u001b[0m\u001b[0;34m\"\\nAssignment cost: %d \\n\"\u001b[0m \u001b[0;34m%\u001b[0m \u001b[0mresult\u001b[0m\u001b[0;34m[\u001b[0m\u001b[0;34m\"total-cost\"\u001b[0m\u001b[0;34m]\u001b[0m\u001b[0;34m)\u001b[0m\u001b[0;34m\u001b[0m\u001b[0;34m\u001b[0m\u001b[0m\n",
      "\u001b[0;32m<ipython-input-64-ca74f291ae94>\u001b[0m in \u001b[0;36msolver_yield\u001b[0;34m(filename)\u001b[0m\n\u001b[1;32m     20\u001b[0m     \u001b[0;32mwhile\u001b[0m \u001b[0mmin_cost\u001b[0m\u001b[0;34m>\u001b[0m\u001b[0;36m0\u001b[0m\u001b[0;34m:\u001b[0m\u001b[0;34m\u001b[0m\u001b[0;34m\u001b[0m\u001b[0m\n\u001b[1;32m     21\u001b[0m         \u001b[0;31m#randomly generated group\u001b[0m\u001b[0;34m\u001b[0m\u001b[0;34m\u001b[0m\u001b[0;34m\u001b[0m\u001b[0m\n\u001b[0;32m---> 22\u001b[0;31m         \u001b[0mrand_groups\u001b[0m \u001b[0;34m=\u001b[0m \u001b[0massign_random_groups\u001b[0m\u001b[0;34m(\u001b[0m\u001b[0mpeople\u001b[0m\u001b[0;34m)\u001b[0m\u001b[0;34m\u001b[0m\u001b[0;34m\u001b[0m\u001b[0m\n\u001b[0m\u001b[1;32m     23\u001b[0m         \u001b[0mgroups\u001b[0m \u001b[0;34m=\u001b[0m \u001b[0mrand_groups\u001b[0m\u001b[0;34m\u001b[0m\u001b[0;34m\u001b[0m\u001b[0m\n\u001b[1;32m     24\u001b[0m \u001b[0;31m#         group example from assignment instructions\u001b[0m\u001b[0;34m\u001b[0m\u001b[0;34m\u001b[0m\u001b[0;34m\u001b[0m\u001b[0m\n",
      "\u001b[0;32m<ipython-input-35-657c25982f24>\u001b[0m in \u001b[0;36massign_random_groups\u001b[0;34m(people)\u001b[0m\n\u001b[1;32m     11\u001b[0m \u001b[0;34m\u001b[0m\u001b[0m\n\u001b[1;32m     12\u001b[0m     \u001b[0;32mwhile\u001b[0m \u001b[0mmax\u001b[0m\u001b[0;34m(\u001b[0m\u001b[0mn_in_group\u001b[0m\u001b[0;34m)\u001b[0m\u001b[0;34m>\u001b[0m\u001b[0;36m3\u001b[0m\u001b[0;34m:\u001b[0m\u001b[0;34m\u001b[0m\u001b[0;34m\u001b[0m\u001b[0m\n\u001b[0;32m---> 13\u001b[0;31m         \u001b[0mrand_groups\u001b[0m \u001b[0;34m=\u001b[0m \u001b[0mnp\u001b[0m\u001b[0;34m.\u001b[0m\u001b[0marray\u001b[0m\u001b[0;34m(\u001b[0m\u001b[0;34m[\u001b[0m\u001b[0mnp\u001b[0m\u001b[0;34m.\u001b[0m\u001b[0mrandom\u001b[0m\u001b[0;34m.\u001b[0m\u001b[0mrandint\u001b[0m\u001b[0;34m(\u001b[0m\u001b[0;36m0\u001b[0m\u001b[0;34m,\u001b[0m\u001b[0mposs_n_groups\u001b[0m\u001b[0;34m)\u001b[0m \u001b[0;32mfor\u001b[0m \u001b[0mx\u001b[0m \u001b[0;32min\u001b[0m \u001b[0mrange\u001b[0m\u001b[0;34m(\u001b[0m\u001b[0mlen\u001b[0m\u001b[0;34m(\u001b[0m\u001b[0mpeople\u001b[0m\u001b[0;34m)\u001b[0m\u001b[0;34m)\u001b[0m\u001b[0;34m]\u001b[0m\u001b[0;34m)\u001b[0m\u001b[0;34m\u001b[0m\u001b[0;34m\u001b[0m\u001b[0m\n\u001b[0m\u001b[1;32m     14\u001b[0m         \u001b[0mn_in_group\u001b[0m \u001b[0;34m=\u001b[0m\u001b[0;34m[\u001b[0m\u001b[0mnp\u001b[0m\u001b[0;34m.\u001b[0m\u001b[0mcount_nonzero\u001b[0m\u001b[0;34m(\u001b[0m\u001b[0mrand_groups\u001b[0m \u001b[0;34m==\u001b[0m \u001b[0mn\u001b[0m\u001b[0;34m)\u001b[0m \u001b[0;32mfor\u001b[0m \u001b[0mn\u001b[0m \u001b[0;32min\u001b[0m \u001b[0mrange\u001b[0m\u001b[0;34m(\u001b[0m\u001b[0mposs_n_groups\u001b[0m\u001b[0;34m+\u001b[0m\u001b[0;36m1\u001b[0m\u001b[0;34m)\u001b[0m\u001b[0;34m]\u001b[0m\u001b[0;34m\u001b[0m\u001b[0;34m\u001b[0m\u001b[0m\n\u001b[1;32m     15\u001b[0m \u001b[0;34m\u001b[0m\u001b[0m\n",
      "\u001b[0;32m<ipython-input-35-657c25982f24>\u001b[0m in \u001b[0;36m<listcomp>\u001b[0;34m(.0)\u001b[0m\n\u001b[1;32m     11\u001b[0m \u001b[0;34m\u001b[0m\u001b[0m\n\u001b[1;32m     12\u001b[0m     \u001b[0;32mwhile\u001b[0m \u001b[0mmax\u001b[0m\u001b[0;34m(\u001b[0m\u001b[0mn_in_group\u001b[0m\u001b[0;34m)\u001b[0m\u001b[0;34m>\u001b[0m\u001b[0;36m3\u001b[0m\u001b[0;34m:\u001b[0m\u001b[0;34m\u001b[0m\u001b[0;34m\u001b[0m\u001b[0m\n\u001b[0;32m---> 13\u001b[0;31m         \u001b[0mrand_groups\u001b[0m \u001b[0;34m=\u001b[0m \u001b[0mnp\u001b[0m\u001b[0;34m.\u001b[0m\u001b[0marray\u001b[0m\u001b[0;34m(\u001b[0m\u001b[0;34m[\u001b[0m\u001b[0mnp\u001b[0m\u001b[0;34m.\u001b[0m\u001b[0mrandom\u001b[0m\u001b[0;34m.\u001b[0m\u001b[0mrandint\u001b[0m\u001b[0;34m(\u001b[0m\u001b[0;36m0\u001b[0m\u001b[0;34m,\u001b[0m\u001b[0mposs_n_groups\u001b[0m\u001b[0;34m)\u001b[0m \u001b[0;32mfor\u001b[0m \u001b[0mx\u001b[0m \u001b[0;32min\u001b[0m \u001b[0mrange\u001b[0m\u001b[0;34m(\u001b[0m\u001b[0mlen\u001b[0m\u001b[0;34m(\u001b[0m\u001b[0mpeople\u001b[0m\u001b[0;34m)\u001b[0m\u001b[0;34m)\u001b[0m\u001b[0;34m]\u001b[0m\u001b[0;34m)\u001b[0m\u001b[0;34m\u001b[0m\u001b[0;34m\u001b[0m\u001b[0m\n\u001b[0m\u001b[1;32m     14\u001b[0m         \u001b[0mn_in_group\u001b[0m \u001b[0;34m=\u001b[0m\u001b[0;34m[\u001b[0m\u001b[0mnp\u001b[0m\u001b[0;34m.\u001b[0m\u001b[0mcount_nonzero\u001b[0m\u001b[0;34m(\u001b[0m\u001b[0mrand_groups\u001b[0m \u001b[0;34m==\u001b[0m \u001b[0mn\u001b[0m\u001b[0;34m)\u001b[0m \u001b[0;32mfor\u001b[0m \u001b[0mn\u001b[0m \u001b[0;32min\u001b[0m \u001b[0mrange\u001b[0m\u001b[0;34m(\u001b[0m\u001b[0mposs_n_groups\u001b[0m\u001b[0;34m+\u001b[0m\u001b[0;36m1\u001b[0m\u001b[0;34m)\u001b[0m\u001b[0;34m]\u001b[0m\u001b[0;34m\u001b[0m\u001b[0;34m\u001b[0m\u001b[0m\n\u001b[1;32m     15\u001b[0m \u001b[0;34m\u001b[0m\u001b[0m\n",
      "\u001b[0;31mKeyboardInterrupt\u001b[0m: "
     ]
    }
   ],
   "source": [
    "for result in solver_yield('test3.txt'):\n",
    "    print(\"----- Latest solution:\\n\" + \"\\n\".join(result[\"assigned-groups\"]))\n",
    "    print(\"\\nAssignment cost: %d \\n\" % result[\"total-cost\"])"
   ]
  },
  {
   "cell_type": "code",
   "execution_count": null,
   "metadata": {},
   "outputs": [],
   "source": []
  },
  {
   "cell_type": "code",
   "execution_count": null,
   "metadata": {
    "id": "964a32fe-b357-4524-891f-57e568fd7e34",
    "tags": []
   },
   "outputs": [],
   "source": [
    "def solver(input_file):\n",
    "    \"\"\"\n",
    "    1. This function should take the name of a .txt input file in the format indicated in the assignment.\n",
    "    2. It should return a dictionary with the following keys:\n",
    "        - \"assigned-groups\" : a list of groups assigned by the program, each consisting of usernames separated by hyphens\n",
    "        - \"total-cost\" : total cost (time spent by instructors in minutes) in the group assignment\n",
    "    3. Do not add any extra parameters to the solver() function, or it will break our grading and testing code.\n",
    "    4. Please do not use any global variables, as it may cause the testing code to fail.\n",
    "    5. To handle the fact that some problems may take longer than others, and you don't know ahead of time how\n",
    "       much time it will take to find the best solution, you can compute a series of solutions and then\n",
    "       call \"yield\" to return that preliminary solution. Your program can continue yielding multiple times;\n",
    "       our test program will take the last answer you 'yielded' once time expired.\n",
    "    \"\"\"\n",
    "\n",
    "    # Simple example. First we yield a quick solution\n",
    "    yield({\"assigned-groups\": [\"vibvats-djcran-zkachwal\", \"shah12\", \"vrmath\"],\n",
    "               \"total-cost\" : 12})\n",
    "\n",
    "    # Then we think a while and return another solution:\n",
    "    time.sleep(10)\n",
    "    yield({\"assigned-groups\": [\"vibvats-djcran-zkachwal\", \"shah12-vrmath\"],\n",
    "               \"total-cost\" : 10})\n",
    "\n",
    "    # This solution will never befound, but that's ok; program will be killed eventually by the\n",
    "    #  test script.\n",
    "    while True:\n",
    "        pass\n",
    "    \n",
    "    yield({\"assigned-groups\": [\"vibvats-djcran\", \"zkachwal-shah12-vrmath\"],\n",
    "               \"total-cost\" : 9})"
   ]
  },
  {
   "cell_type": "code",
   "execution_count": null,
   "metadata": {
    "id": "6f100cb5-a4a6-40ba-918c-9067c7289e77",
    "outputId": "a279acd8-6ce6-4d27-99c6-1dc9127ee9e6"
   },
   "outputs": [
    {
     "name": "stdout",
     "output_type": "stream",
     "text": [
      "[['qian', 'wang5'], ['vkvats', 'zhao', 'feng'], ['zhou', 'wang', 'zhang3'], ['sulagaop', 'nthakurd', 'chen'], ['sahmaini', 'fanjun', 'zheng'], ['sun', 'li', 'wu'], ['djcran', 'li4', 'zhang']] 146\n"
     ]
    },
    {
     "ename": "TypeError",
     "evalue": "sequence item 0: expected str instance, list found",
     "output_type": "error",
     "traceback": [
      "\u001b[1;31m---------------------------------------------------------------------------\u001b[0m",
      "\u001b[1;31mTypeError\u001b[0m                                 Traceback (most recent call last)",
      "\u001b[1;32m<ipython-input-22-add9f9d373fd>\u001b[0m in \u001b[0;36m<module>\u001b[1;34m\u001b[0m\n\u001b[0;32m      4\u001b[0m \u001b[1;33m\u001b[0m\u001b[0m\n\u001b[0;32m      5\u001b[0m     \u001b[1;32mfor\u001b[0m \u001b[0mresult\u001b[0m \u001b[1;32min\u001b[0m \u001b[0msolver\u001b[0m\u001b[1;33m(\u001b[0m\u001b[1;34m'test1.txt'\u001b[0m\u001b[1;33m)\u001b[0m\u001b[1;33m:\u001b[0m\u001b[1;33m\u001b[0m\u001b[1;33m\u001b[0m\u001b[0m\n\u001b[1;32m----> 6\u001b[1;33m         \u001b[0mprint\u001b[0m\u001b[1;33m(\u001b[0m\u001b[1;34m\"----- Latest solution:\\n\"\u001b[0m \u001b[1;33m+\u001b[0m \u001b[1;34m\"\\n\"\u001b[0m\u001b[1;33m.\u001b[0m\u001b[0mjoin\u001b[0m\u001b[1;33m(\u001b[0m\u001b[0mresult\u001b[0m\u001b[1;33m[\u001b[0m\u001b[1;34m\"assigned-groups\"\u001b[0m\u001b[1;33m]\u001b[0m\u001b[1;33m)\u001b[0m\u001b[1;33m)\u001b[0m\u001b[1;33m\u001b[0m\u001b[1;33m\u001b[0m\u001b[0m\n\u001b[0m\u001b[0;32m      7\u001b[0m         \u001b[0mprint\u001b[0m\u001b[1;33m(\u001b[0m\u001b[1;34m\"\\nAssignment cost: %d \\n\"\u001b[0m \u001b[1;33m%\u001b[0m \u001b[0mresult\u001b[0m\u001b[1;33m[\u001b[0m\u001b[1;34m\"total-cost\"\u001b[0m\u001b[1;33m]\u001b[0m\u001b[1;33m)\u001b[0m\u001b[1;33m\u001b[0m\u001b[1;33m\u001b[0m\u001b[0m\n\u001b[0;32m      8\u001b[0m \u001b[1;33m\u001b[0m\u001b[0m\n",
      "\u001b[1;31mTypeError\u001b[0m: sequence item 0: expected str instance, list found"
     ]
    }
   ],
   "source": [
    "if __name__ == \"__main__\":\n",
    "    if(len('XX') != 2):\n",
    "        raise(Exception(\"Error: expected an input filename\"))\n",
    "\n",
    "    for result in solver('test1.txt'):\n",
    "        print(\"----- Latest solution:\\n\" + \"\\n\".join(result[\"assigned-groups\"]))\n",
    "        print(\"\\nAssignment cost: %d \\n\" % result[\"total-cost\"])\n",
    "    "
   ]
  },
  {
   "cell_type": "code",
   "execution_count": null,
   "metadata": {
    "id": "633ba591-c7bb-4846-96cd-b2363ea481cd"
   },
   "outputs": [],
   "source": []
  }
 ],
 "metadata": {
  "colab": {
   "name": "assign-zayatz (1).ipynb",
   "provenance": []
  },
  "kernelspec": {
   "display_name": "Python 3",
   "language": "python",
   "name": "python3"
  },
  "language_info": {
   "codemirror_mode": {
    "name": "ipython",
    "version": 3
   },
   "file_extension": ".py",
   "mimetype": "text/x-python",
   "name": "python",
   "nbconvert_exporter": "python",
   "pygments_lexer": "ipython3",
   "version": "3.8.5"
  }
 },
 "nbformat": 4,
 "nbformat_minor": 5
}
